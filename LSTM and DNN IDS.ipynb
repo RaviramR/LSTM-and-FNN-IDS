{
  "cells": [
    {
      "cell_type": "code",
      "source": [
        "%pip install seaborn"
      ],
      "metadata": {
        "id": "hTNYQTonB87j",
        "colab": {
          "base_uri": "https://localhost:8080/"
        },
        "outputId": "c217b5c4-3595-4501-832b-b3a22e3cb9dc"
      },
      "execution_count": null,
      "outputs": [
        {
          "output_type": "stream",
          "name": "stdout",
          "text": [
            "Looking in indexes: https://pypi.org/simple, https://us-python.pkg.dev/colab-wheels/public/simple/\n",
            "Requirement already satisfied: seaborn in /usr/local/lib/python3.7/dist-packages (0.11.2)\n",
            "Requirement already satisfied: pandas>=0.23 in /usr/local/lib/python3.7/dist-packages (from seaborn) (1.3.5)\n",
            "Requirement already satisfied: numpy>=1.15 in /usr/local/lib/python3.7/dist-packages (from seaborn) (1.21.6)\n",
            "Requirement already satisfied: scipy>=1.0 in /usr/local/lib/python3.7/dist-packages (from seaborn) (1.4.1)\n",
            "Requirement already satisfied: matplotlib>=2.2 in /usr/local/lib/python3.7/dist-packages (from seaborn) (3.2.2)\n",
            "Requirement already satisfied: cycler>=0.10 in /usr/local/lib/python3.7/dist-packages (from matplotlib>=2.2->seaborn) (0.11.0)\n",
            "Requirement already satisfied: python-dateutil>=2.1 in /usr/local/lib/python3.7/dist-packages (from matplotlib>=2.2->seaborn) (2.8.2)\n",
            "Requirement already satisfied: pyparsing!=2.0.4,!=2.1.2,!=2.1.6,>=2.0.1 in /usr/local/lib/python3.7/dist-packages (from matplotlib>=2.2->seaborn) (3.0.9)\n",
            "Requirement already satisfied: kiwisolver>=1.0.1 in /usr/local/lib/python3.7/dist-packages (from matplotlib>=2.2->seaborn) (1.4.3)\n",
            "Requirement already satisfied: typing-extensions in /usr/local/lib/python3.7/dist-packages (from kiwisolver>=1.0.1->matplotlib>=2.2->seaborn) (4.1.1)\n",
            "Requirement already satisfied: pytz>=2017.3 in /usr/local/lib/python3.7/dist-packages (from pandas>=0.23->seaborn) (2022.1)\n",
            "Requirement already satisfied: six>=1.5 in /usr/local/lib/python3.7/dist-packages (from python-dateutil>=2.1->matplotlib>=2.2->seaborn) (1.15.0)\n"
          ]
        }
      ]
    },
    {
      "cell_type": "code",
      "source": [
        "from numpy import array\n",
        "from keras.preprocessing.text import one_hot\n",
        "from keras.preprocessing.sequence import pad_sequences\n",
        "from keras.models import Sequential\n",
        "from keras.layers.core import Activation, Dropout, Dense\n",
        "from keras.layers import Flatten, LSTM\n",
        "from keras.layers import GlobalMaxPooling1D\n",
        "from keras.models import Model\n",
        "from keras.layers.embeddings import Embedding\n",
        "from sklearn.model_selection import train_test_split\n",
        "from keras.preprocessing.text import Tokenizer\n",
        "from keras.layers import Input\n",
        "from keras.layers.merge import Concatenate\n",
        "from keras.layers import Bidirectional\n",
        "\n",
        "import pandas as pd\n",
        "import numpy as np\n",
        "import re\n",
        "\n",
        "import matplotlib.pyplot as plt\n",
        "import seaborn as sns"
      ],
      "metadata": {
        "id": "ASx4yN5ubEaG"
      },
      "execution_count": null,
      "outputs": []
    },
    {
      "cell_type": "code",
      "source": [
        "%ls drive/MyDrive/\n"
      ],
      "metadata": {
        "colab": {
          "base_uri": "https://localhost:8080/"
        },
        "id": "rhJmHvwfgjDZ",
        "outputId": "afb5b2d9-c7ae-4969-a65c-754dd552b46a"
      },
      "execution_count": null,
      "outputs": [
        {
          "output_type": "stream",
          "name": "stdout",
          "text": [
            "'08_10_20 Assignment 123018046.pdf'\n",
            "'123018046 (1).pdf'\n",
            "'123018046 (2).pdf'\n",
            " 123018046_DSA_Assignment.pdf\n",
            " 123018046_OS.pdf\n",
            " 123018046.pdf\n",
            " 123018046.zip\n",
            "'2019 June.pdf'\n",
            "'28-12 SE lab.gdoc'\n",
            "'29 Aug Quiz 123018046.pdf'\n",
            " aEDA-dataset.csv\n",
            " aEDA-dataset.gsheet\n",
            "'Assigment20_10_20_Class diagram - 123018046.pdf'\n",
            "'Assignment 1 - 123018046.pdf'\n",
            "'Assignment 1 - 123018046 - SE.pdf'\n",
            "'Assignment 1.pdf'\n",
            "'Assignment 29-10-20.docx'\n",
            "'Assignment 29-10-20.pdf'\n",
            "'Assignment 4.pdf'\n",
            "'Assignment 5 - 123018046 (1).docx'\n",
            "'Assignment 5 - 123018046 (2).docx'\n",
            "'Assignment 5 - 123018046.docx'\n",
            "'Basic Input Output.pdf'\n",
            "'BCG Matrix - My Topic.gdoc'\n",
            "'Buisness Strategy - Project Workboard.gdoc'\n",
            "'Business Strategy Assignment.gdoc'\n",
            " \u001b[0m\u001b[01;34mClassroom\u001b[0m/\n",
            " \u001b[01;34mcloud-classification\u001b[0m/\n",
            " cloud-classification.zip\n",
            "'code 123018046.pdf'\n",
            "\u001b[01;34m'Colab Notebooks'\u001b[0m/\n",
            "'Copy of Interview Prep DSA.gdoc'\n",
            "'Copy of MAKE A COPY OF THE DOC - Harvard CV Template.doc'\n",
            "'Copy of Metamorphosis Business Plan by Slidesgo.gslides'\n",
            "'Copy of OutputFormat-1.cpp'\n",
            "'Copy of Unit 1 .pptx'\n",
            "'CP Attendance.gsheet'\n",
            "'CSS Assignment - 123018046.gdoc'\n",
            "'CSS Assignment List of papers.gdoc'\n",
            " DSA_Assignment_123018046.pdf\n",
            "'DT Project Testing Phase.gdoc'\n",
            "'DT Testing talk.gdoc'\n",
            "'English Assignment.gdoc'\n",
            "'Factor Analysis - 123018046 (1).pdf'\n",
            "'Factor Analysis - 123018046.pdf'\n",
            "'Factor Analysis.gslides'\n",
            "'FLAT_Attendance (2020-08-19).gdoc'\n",
            "'FLAT_U2L3_Ambiguity in Grammars & Languages.gslides'\n",
            "'FLAT_U2L5_Push Down Automata_with writing.gslides'\n",
            "\u001b[01;34m'Formal Language & Automata Theory'\u001b[0m/\n",
            "'Full_Computational Statistics Link doc for Recording and Material (1).gsheet'\n",
            "'Full_Computational Statistics Link doc for Recording and Material (2).gsheet'\n",
            "'Full_Computational Statistics Link doc for Recording and Material.gsheet'\n",
            "'Graphical solutions cont., (2021-03-08 at 00:36 GMT-8)'\n",
            " \u001b[01;36mHomework\u001b[0m@\n",
            "'Hospital_Miniproject_123018046 (1).pdf'\n",
            " Hospital_Miniproject_123018046.pdf\n",
            "'IDE FINAL.pptx'\n",
            " IDE_SE-Assignment_1.pdf\n",
            "'II YEAR -CSBS Mentor - Mentees Details - 2020 -2021.xlsx'\n",
            " IMG_20200829_210845_854.jpg\n",
            "'Introduction to linux - Infinity Team.gslides'\n",
            "'JFLAP Lab Assignment - 123018046.gdoc'\n",
            "'Kandi Fundi.gsheet'\n",
            " K.Geetha-COCA-U1-flip-flop-notes.gdoc\n",
            " K.Geetha-COCA-U3-ParallelProcessing.pdf\n",
            "'Kratos Buddhi.mp4'\n",
            "\u001b[01;34m'KS 22 CSBS'\u001b[0m/\n",
            "'L16 UII Multivariate Regression  (2020-09-10 at 22:33 GMT-7)'\n",
            "'Magic SR Spreadsheet.gsheet'\n",
            " MANOVA_Test_10_10_2020.pdf\n",
            "'Mechanical Keyboard User Manual.gdoc'\n",
            "\u001b[01;34m'Meet Recordings'\u001b[0m/\n",
            "\u001b[01;34m'Mini Project'\u001b[0m/\n",
            "'Mini Project - Abstract.gdoc'\n",
            "\u001b[01;34m'ML FaceReg'\u001b[0m/\n",
            " \u001b[01;34mmlproj\u001b[0m/\n",
            "'My Copy of FINAL450.xlsx'\n",
            " norm_dataset.csv\n",
            "\u001b[01;34m'Object Oriented Programming'\u001b[0m/\n",
            "'OOPS Links.gsheet'\n",
            "'Operations Research Links.gsheet'\n",
            " orig_dataset.csv\n",
            " ProgrammingQuestion-4.gdoc\n",
            "'Prompt ML.gdoc'\n",
            "'Proposal letter.gdoc'\n",
            " question_1.cpp\n",
            " question_2.cpp\n",
            " Resources.gsheet\n",
            "'Review Sheet.gsheet'\n",
            "'Scan 29 Oct 2020.pdf'\n",
            " Schedule.gsheet\n",
            "'SE Assignment_2.pdf'\n",
            "'SE Assignment.pdf'\n",
            "\u001b[01;34m'Sem 5'\u001b[0m/\n",
            "\u001b[01;34m'Sem5 Exam Prep'\u001b[0m/\n",
            "'Sem5 TT.gsheet'\n",
            "\u001b[01;34m'SE UML Lab'\u001b[0m/\n",
            "'Software engineering  a practitioner’s approach by Maxim, Bruce R. Pressman, Roger S. (z-lib.org).pdf'\n",
            " SQL_Practice1_123018046.gdoc\n",
            "'SRS Document - Lab 1 SE UML.gdoc'\n",
            "'Test FoME - Assignment 1.gdoc'\n",
            "'The Algorithm Design Manual by Steven S. Skiena.pdf'\n",
            "'The BCG Matrix.gslides'\n",
            "'Tracking References for Buisness Strategy Assignment.gdoc'\n",
            " UML123018046.gdoc\n",
            "'Unit 1 .pptx'\n",
            "'Unit-1 Refresher Class (1).gslides'\n",
            "'Unit-1 Refresher Class.gslides'\n",
            "'Unit-2 Refresher Class (1).gslides'\n",
            "'Unit-2 Refresher Class (2).gslides'\n",
            "'Unit-2 Refresher Class (3).gslides'\n",
            "'Unit-2 Refresher Class.gslides'\n",
            "'Unit-3 Refresher Class (1).gslides'\n",
            "'Unit-3 Refresher Class (2).gslides'\n",
            "'Unit-3 Refresher Class.gslides'\n",
            "'Unit-4 Refresher Class.gslides'\n",
            "'Untitled document (1).gdoc'\n",
            "'Untitled document (2).gdoc'\n",
            "'Untitled document.gdoc'\n",
            "'Untitled Jam.gjam'\n",
            "\u001b[01;34m'Valorant Clips'\u001b[0m/\n",
            " Vmontage1GamerRK.m4v\n",
            "'Web Exploitation Basics - Terminology.gdoc'\n",
            "'WhatsApp Image 2020-10-17 at 10.36.47 PM.jpeg'\n",
            " \u001b[01;34mWriteups\u001b[0m/\n"
          ]
        }
      ]
    },
    {
      "cell_type": "code",
      "source": [
        "dfo = pd.read_csv(\"drive/MyDrive/orig_dataset.csv\")\n",
        "dfo"
      ],
      "metadata": {
        "id": "WCr37kKj3oJp",
        "colab": {
          "base_uri": "https://localhost:8080/",
          "height": 488
        },
        "outputId": "50bebfed-ea5b-4cb8-eaf2-b9fff7be5c1e"
      },
      "execution_count": null,
      "outputs": [
        {
          "output_type": "execute_result",
          "data": {
            "text/plain": [
              "            id  command_address  response_address  command_memory  \\\n",
              "0            1                7                 7             183   \n",
              "1            2                7                 7             183   \n",
              "2            3                7                 7             183   \n",
              "3            4                7                 7             183   \n",
              "4            5                7                 7             183   \n",
              "...        ...              ...               ...             ...   \n",
              "236174  236175                7                 7             183   \n",
              "236175  236176                7                 7             183   \n",
              "236176  236177                7                 7             183   \n",
              "236177  236178                7                 7             183   \n",
              "236178  236179                7                 7             183   \n",
              "\n",
              "        response_memory  command_memory_count  response_memory_count  \\\n",
              "0                   233                     9                     10   \n",
              "1                   233                     9                     10   \n",
              "2                   233                     9                     10   \n",
              "3                   233                     9                     10   \n",
              "4                   233                     9                     10   \n",
              "...                 ...                   ...                    ...   \n",
              "236174              233                    10                     10   \n",
              "236175              233                    10                     10   \n",
              "236176              233                    10                     10   \n",
              "236177              233                    10                     10   \n",
              "236178              233                    10                     10   \n",
              "\n",
              "        comm_read_function  comm_write_fun  resp_read_fun  ...   H   L  LL  \\\n",
              "0                        3              10              3  ...  80  20  10   \n",
              "1                        3              10              3  ...  80  20  10   \n",
              "2                        3              10              3  ...  80  20  10   \n",
              "3                        3              10              3  ...  80  20  10   \n",
              "4                        3              10              3  ...  80  20  10   \n",
              "...                    ...             ...            ...  ...  ..  ..  ..   \n",
              "236174                   3              10              3  ...  80  20  10   \n",
              "236175                   3              10              3  ...  80  20  10   \n",
              "236176                   3              10              3  ...  80  20  10   \n",
              "236177                   3              10              3  ...  80  20  10   \n",
              "236178                   3              10              3  ...  80  20  10   \n",
              "\n",
              "        control_mode  control_scheme  pump  crc_rate  measurement  time  \\\n",
              "0                  2               1     0         1    14.894827  1.13   \n",
              "1                  2               1     0         1    16.259237  1.25   \n",
              "2                  2               1     0         1    17.254122  1.04   \n",
              "3                  2               1     0         1    17.936329  1.07   \n",
              "4                  2               1     0         1    18.703810  1.20   \n",
              "...              ...             ...   ...       ...          ...   ...   \n",
              "236174             2               1     0         0    89.198410  1.30   \n",
              "236175             2               1     0         0    89.567932  1.20   \n",
              "236176             2               1     0         0    88.317230  1.05   \n",
              "236177             2               1     0         0    88.374077  1.07   \n",
              "236178             2               1     0         0    88.459358  1.05   \n",
              "\n",
              "        result  \n",
              "0            0  \n",
              "1            0  \n",
              "2            0  \n",
              "3            0  \n",
              "4            0  \n",
              "...        ...  \n",
              "236174       0  \n",
              "236175       0  \n",
              "236176       0  \n",
              "236177       0  \n",
              "236178       0  \n",
              "\n",
              "[236179 rows x 25 columns]"
            ],
            "text/html": [
              "\n",
              "  <div id=\"df-cec793ad-a3ba-474e-a4cc-8cfec99ca199\">\n",
              "    <div class=\"colab-df-container\">\n",
              "      <div>\n",
              "<style scoped>\n",
              "    .dataframe tbody tr th:only-of-type {\n",
              "        vertical-align: middle;\n",
              "    }\n",
              "\n",
              "    .dataframe tbody tr th {\n",
              "        vertical-align: top;\n",
              "    }\n",
              "\n",
              "    .dataframe thead th {\n",
              "        text-align: right;\n",
              "    }\n",
              "</style>\n",
              "<table border=\"1\" class=\"dataframe\">\n",
              "  <thead>\n",
              "    <tr style=\"text-align: right;\">\n",
              "      <th></th>\n",
              "      <th>id</th>\n",
              "      <th>command_address</th>\n",
              "      <th>response_address</th>\n",
              "      <th>command_memory</th>\n",
              "      <th>response_memory</th>\n",
              "      <th>command_memory_count</th>\n",
              "      <th>response_memory_count</th>\n",
              "      <th>comm_read_function</th>\n",
              "      <th>comm_write_fun</th>\n",
              "      <th>resp_read_fun</th>\n",
              "      <th>...</th>\n",
              "      <th>H</th>\n",
              "      <th>L</th>\n",
              "      <th>LL</th>\n",
              "      <th>control_mode</th>\n",
              "      <th>control_scheme</th>\n",
              "      <th>pump</th>\n",
              "      <th>crc_rate</th>\n",
              "      <th>measurement</th>\n",
              "      <th>time</th>\n",
              "      <th>result</th>\n",
              "    </tr>\n",
              "  </thead>\n",
              "  <tbody>\n",
              "    <tr>\n",
              "      <th>0</th>\n",
              "      <td>1</td>\n",
              "      <td>7</td>\n",
              "      <td>7</td>\n",
              "      <td>183</td>\n",
              "      <td>233</td>\n",
              "      <td>9</td>\n",
              "      <td>10</td>\n",
              "      <td>3</td>\n",
              "      <td>10</td>\n",
              "      <td>3</td>\n",
              "      <td>...</td>\n",
              "      <td>80</td>\n",
              "      <td>20</td>\n",
              "      <td>10</td>\n",
              "      <td>2</td>\n",
              "      <td>1</td>\n",
              "      <td>0</td>\n",
              "      <td>1</td>\n",
              "      <td>14.894827</td>\n",
              "      <td>1.13</td>\n",
              "      <td>0</td>\n",
              "    </tr>\n",
              "    <tr>\n",
              "      <th>1</th>\n",
              "      <td>2</td>\n",
              "      <td>7</td>\n",
              "      <td>7</td>\n",
              "      <td>183</td>\n",
              "      <td>233</td>\n",
              "      <td>9</td>\n",
              "      <td>10</td>\n",
              "      <td>3</td>\n",
              "      <td>10</td>\n",
              "      <td>3</td>\n",
              "      <td>...</td>\n",
              "      <td>80</td>\n",
              "      <td>20</td>\n",
              "      <td>10</td>\n",
              "      <td>2</td>\n",
              "      <td>1</td>\n",
              "      <td>0</td>\n",
              "      <td>1</td>\n",
              "      <td>16.259237</td>\n",
              "      <td>1.25</td>\n",
              "      <td>0</td>\n",
              "    </tr>\n",
              "    <tr>\n",
              "      <th>2</th>\n",
              "      <td>3</td>\n",
              "      <td>7</td>\n",
              "      <td>7</td>\n",
              "      <td>183</td>\n",
              "      <td>233</td>\n",
              "      <td>9</td>\n",
              "      <td>10</td>\n",
              "      <td>3</td>\n",
              "      <td>10</td>\n",
              "      <td>3</td>\n",
              "      <td>...</td>\n",
              "      <td>80</td>\n",
              "      <td>20</td>\n",
              "      <td>10</td>\n",
              "      <td>2</td>\n",
              "      <td>1</td>\n",
              "      <td>0</td>\n",
              "      <td>1</td>\n",
              "      <td>17.254122</td>\n",
              "      <td>1.04</td>\n",
              "      <td>0</td>\n",
              "    </tr>\n",
              "    <tr>\n",
              "      <th>3</th>\n",
              "      <td>4</td>\n",
              "      <td>7</td>\n",
              "      <td>7</td>\n",
              "      <td>183</td>\n",
              "      <td>233</td>\n",
              "      <td>9</td>\n",
              "      <td>10</td>\n",
              "      <td>3</td>\n",
              "      <td>10</td>\n",
              "      <td>3</td>\n",
              "      <td>...</td>\n",
              "      <td>80</td>\n",
              "      <td>20</td>\n",
              "      <td>10</td>\n",
              "      <td>2</td>\n",
              "      <td>1</td>\n",
              "      <td>0</td>\n",
              "      <td>1</td>\n",
              "      <td>17.936329</td>\n",
              "      <td>1.07</td>\n",
              "      <td>0</td>\n",
              "    </tr>\n",
              "    <tr>\n",
              "      <th>4</th>\n",
              "      <td>5</td>\n",
              "      <td>7</td>\n",
              "      <td>7</td>\n",
              "      <td>183</td>\n",
              "      <td>233</td>\n",
              "      <td>9</td>\n",
              "      <td>10</td>\n",
              "      <td>3</td>\n",
              "      <td>10</td>\n",
              "      <td>3</td>\n",
              "      <td>...</td>\n",
              "      <td>80</td>\n",
              "      <td>20</td>\n",
              "      <td>10</td>\n",
              "      <td>2</td>\n",
              "      <td>1</td>\n",
              "      <td>0</td>\n",
              "      <td>1</td>\n",
              "      <td>18.703810</td>\n",
              "      <td>1.20</td>\n",
              "      <td>0</td>\n",
              "    </tr>\n",
              "    <tr>\n",
              "      <th>...</th>\n",
              "      <td>...</td>\n",
              "      <td>...</td>\n",
              "      <td>...</td>\n",
              "      <td>...</td>\n",
              "      <td>...</td>\n",
              "      <td>...</td>\n",
              "      <td>...</td>\n",
              "      <td>...</td>\n",
              "      <td>...</td>\n",
              "      <td>...</td>\n",
              "      <td>...</td>\n",
              "      <td>...</td>\n",
              "      <td>...</td>\n",
              "      <td>...</td>\n",
              "      <td>...</td>\n",
              "      <td>...</td>\n",
              "      <td>...</td>\n",
              "      <td>...</td>\n",
              "      <td>...</td>\n",
              "      <td>...</td>\n",
              "      <td>...</td>\n",
              "    </tr>\n",
              "    <tr>\n",
              "      <th>236174</th>\n",
              "      <td>236175</td>\n",
              "      <td>7</td>\n",
              "      <td>7</td>\n",
              "      <td>183</td>\n",
              "      <td>233</td>\n",
              "      <td>10</td>\n",
              "      <td>10</td>\n",
              "      <td>3</td>\n",
              "      <td>10</td>\n",
              "      <td>3</td>\n",
              "      <td>...</td>\n",
              "      <td>80</td>\n",
              "      <td>20</td>\n",
              "      <td>10</td>\n",
              "      <td>2</td>\n",
              "      <td>1</td>\n",
              "      <td>0</td>\n",
              "      <td>0</td>\n",
              "      <td>89.198410</td>\n",
              "      <td>1.30</td>\n",
              "      <td>0</td>\n",
              "    </tr>\n",
              "    <tr>\n",
              "      <th>236175</th>\n",
              "      <td>236176</td>\n",
              "      <td>7</td>\n",
              "      <td>7</td>\n",
              "      <td>183</td>\n",
              "      <td>233</td>\n",
              "      <td>10</td>\n",
              "      <td>10</td>\n",
              "      <td>3</td>\n",
              "      <td>10</td>\n",
              "      <td>3</td>\n",
              "      <td>...</td>\n",
              "      <td>80</td>\n",
              "      <td>20</td>\n",
              "      <td>10</td>\n",
              "      <td>2</td>\n",
              "      <td>1</td>\n",
              "      <td>0</td>\n",
              "      <td>0</td>\n",
              "      <td>89.567932</td>\n",
              "      <td>1.20</td>\n",
              "      <td>0</td>\n",
              "    </tr>\n",
              "    <tr>\n",
              "      <th>236176</th>\n",
              "      <td>236177</td>\n",
              "      <td>7</td>\n",
              "      <td>7</td>\n",
              "      <td>183</td>\n",
              "      <td>233</td>\n",
              "      <td>10</td>\n",
              "      <td>10</td>\n",
              "      <td>3</td>\n",
              "      <td>10</td>\n",
              "      <td>3</td>\n",
              "      <td>...</td>\n",
              "      <td>80</td>\n",
              "      <td>20</td>\n",
              "      <td>10</td>\n",
              "      <td>2</td>\n",
              "      <td>1</td>\n",
              "      <td>0</td>\n",
              "      <td>0</td>\n",
              "      <td>88.317230</td>\n",
              "      <td>1.05</td>\n",
              "      <td>0</td>\n",
              "    </tr>\n",
              "    <tr>\n",
              "      <th>236177</th>\n",
              "      <td>236178</td>\n",
              "      <td>7</td>\n",
              "      <td>7</td>\n",
              "      <td>183</td>\n",
              "      <td>233</td>\n",
              "      <td>10</td>\n",
              "      <td>10</td>\n",
              "      <td>3</td>\n",
              "      <td>10</td>\n",
              "      <td>3</td>\n",
              "      <td>...</td>\n",
              "      <td>80</td>\n",
              "      <td>20</td>\n",
              "      <td>10</td>\n",
              "      <td>2</td>\n",
              "      <td>1</td>\n",
              "      <td>0</td>\n",
              "      <td>0</td>\n",
              "      <td>88.374077</td>\n",
              "      <td>1.07</td>\n",
              "      <td>0</td>\n",
              "    </tr>\n",
              "    <tr>\n",
              "      <th>236178</th>\n",
              "      <td>236179</td>\n",
              "      <td>7</td>\n",
              "      <td>7</td>\n",
              "      <td>183</td>\n",
              "      <td>233</td>\n",
              "      <td>10</td>\n",
              "      <td>10</td>\n",
              "      <td>3</td>\n",
              "      <td>10</td>\n",
              "      <td>3</td>\n",
              "      <td>...</td>\n",
              "      <td>80</td>\n",
              "      <td>20</td>\n",
              "      <td>10</td>\n",
              "      <td>2</td>\n",
              "      <td>1</td>\n",
              "      <td>0</td>\n",
              "      <td>0</td>\n",
              "      <td>88.459358</td>\n",
              "      <td>1.05</td>\n",
              "      <td>0</td>\n",
              "    </tr>\n",
              "  </tbody>\n",
              "</table>\n",
              "<p>236179 rows × 25 columns</p>\n",
              "</div>\n",
              "      <button class=\"colab-df-convert\" onclick=\"convertToInteractive('df-cec793ad-a3ba-474e-a4cc-8cfec99ca199')\"\n",
              "              title=\"Convert this dataframe to an interactive table.\"\n",
              "              style=\"display:none;\">\n",
              "        \n",
              "  <svg xmlns=\"http://www.w3.org/2000/svg\" height=\"24px\"viewBox=\"0 0 24 24\"\n",
              "       width=\"24px\">\n",
              "    <path d=\"M0 0h24v24H0V0z\" fill=\"none\"/>\n",
              "    <path d=\"M18.56 5.44l.94 2.06.94-2.06 2.06-.94-2.06-.94-.94-2.06-.94 2.06-2.06.94zm-11 1L8.5 8.5l.94-2.06 2.06-.94-2.06-.94L8.5 2.5l-.94 2.06-2.06.94zm10 10l.94 2.06.94-2.06 2.06-.94-2.06-.94-.94-2.06-.94 2.06-2.06.94z\"/><path d=\"M17.41 7.96l-1.37-1.37c-.4-.4-.92-.59-1.43-.59-.52 0-1.04.2-1.43.59L10.3 9.45l-7.72 7.72c-.78.78-.78 2.05 0 2.83L4 21.41c.39.39.9.59 1.41.59.51 0 1.02-.2 1.41-.59l7.78-7.78 2.81-2.81c.8-.78.8-2.07 0-2.86zM5.41 20L4 18.59l7.72-7.72 1.47 1.35L5.41 20z\"/>\n",
              "  </svg>\n",
              "      </button>\n",
              "      \n",
              "  <style>\n",
              "    .colab-df-container {\n",
              "      display:flex;\n",
              "      flex-wrap:wrap;\n",
              "      gap: 12px;\n",
              "    }\n",
              "\n",
              "    .colab-df-convert {\n",
              "      background-color: #E8F0FE;\n",
              "      border: none;\n",
              "      border-radius: 50%;\n",
              "      cursor: pointer;\n",
              "      display: none;\n",
              "      fill: #1967D2;\n",
              "      height: 32px;\n",
              "      padding: 0 0 0 0;\n",
              "      width: 32px;\n",
              "    }\n",
              "\n",
              "    .colab-df-convert:hover {\n",
              "      background-color: #E2EBFA;\n",
              "      box-shadow: 0px 1px 2px rgba(60, 64, 67, 0.3), 0px 1px 3px 1px rgba(60, 64, 67, 0.15);\n",
              "      fill: #174EA6;\n",
              "    }\n",
              "\n",
              "    [theme=dark] .colab-df-convert {\n",
              "      background-color: #3B4455;\n",
              "      fill: #D2E3FC;\n",
              "    }\n",
              "\n",
              "    [theme=dark] .colab-df-convert:hover {\n",
              "      background-color: #434B5C;\n",
              "      box-shadow: 0px 1px 3px 1px rgba(0, 0, 0, 0.15);\n",
              "      filter: drop-shadow(0px 1px 2px rgba(0, 0, 0, 0.3));\n",
              "      fill: #FFFFFF;\n",
              "    }\n",
              "  </style>\n",
              "\n",
              "      <script>\n",
              "        const buttonEl =\n",
              "          document.querySelector('#df-cec793ad-a3ba-474e-a4cc-8cfec99ca199 button.colab-df-convert');\n",
              "        buttonEl.style.display =\n",
              "          google.colab.kernel.accessAllowed ? 'block' : 'none';\n",
              "\n",
              "        async function convertToInteractive(key) {\n",
              "          const element = document.querySelector('#df-cec793ad-a3ba-474e-a4cc-8cfec99ca199');\n",
              "          const dataTable =\n",
              "            await google.colab.kernel.invokeFunction('convertToInteractive',\n",
              "                                                     [key], {});\n",
              "          if (!dataTable) return;\n",
              "\n",
              "          const docLinkHtml = 'Like what you see? Visit the ' +\n",
              "            '<a target=\"_blank\" href=https://colab.research.google.com/notebooks/data_table.ipynb>data table notebook</a>'\n",
              "            + ' to learn more about interactive tables.';\n",
              "          element.innerHTML = '';\n",
              "          dataTable['output_type'] = 'display_data';\n",
              "          await google.colab.output.renderOutput(dataTable, element);\n",
              "          const docLink = document.createElement('div');\n",
              "          docLink.innerHTML = docLinkHtml;\n",
              "          element.appendChild(docLink);\n",
              "        }\n",
              "      </script>\n",
              "    </div>\n",
              "  </div>\n",
              "  "
            ]
          },
          "metadata": {},
          "execution_count": 20
        }
      ]
    },
    {
      "cell_type": "code",
      "source": [
        "sns.pairplot(df)"
      ],
      "metadata": {
        "id": "OKkGPVvCDp5i"
      },
      "execution_count": null,
      "outputs": []
    },
    {
      "cell_type": "code",
      "source": [
        "df.drop(['id'], axis=1, inplace=True)\n",
        "df"
      ],
      "metadata": {
        "id": "9AufXMkq3u8Q"
      },
      "execution_count": null,
      "outputs": []
    },
    {
      "cell_type": "code",
      "source": [
        "ndf = (df-df.mean())/df.std()\n",
        "ndf['result'] = (df['result']-df['result'].min())/(df['result'].max()-df['result'].min())\n",
        "ndf"
      ],
      "metadata": {
        "id": "jFqhr4KO31ft"
      },
      "execution_count": null,
      "outputs": []
    },
    {
      "cell_type": "code",
      "source": [
        "ndf.assign(command_memory=0)\n",
        "ndf"
      ],
      "metadata": {
        "id": "QbRFg9074B14"
      },
      "execution_count": null,
      "outputs": []
    },
    {
      "cell_type": "code",
      "source": [
        "ndf.write_csv(\"norm_dataset.csv\")"
      ],
      "metadata": {
        "id": "h4JeIMSz4Ju1"
      },
      "execution_count": null,
      "outputs": []
    },
    {
      "cell_type": "code",
      "source": [
        "from google.colab import drive\n",
        "drive.mount('/content/drive')"
      ],
      "metadata": {
        "colab": {
          "base_uri": "https://localhost:8080/"
        },
        "id": "wIjoEBtZ4TCV",
        "outputId": "1d16c10c-bc06-4e61-9fb7-6fdd21c96ee2"
      },
      "execution_count": null,
      "outputs": [
        {
          "output_type": "stream",
          "name": "stdout",
          "text": [
            "Drive already mounted at /content/drive; to attempt to forcibly remount, call drive.mount(\"/content/drive\", force_remount=True).\n"
          ]
        }
      ]
    },
    {
      "cell_type": "code",
      "source": [
        "%ls /content/drive/MyDrive"
      ],
      "metadata": {
        "id": "HzHJTSe_4fhz",
        "colab": {
          "base_uri": "https://localhost:8080/"
        },
        "outputId": "b96a12bf-8691-4262-d083-b36f8eb24feb"
      },
      "execution_count": null,
      "outputs": [
        {
          "output_type": "stream",
          "name": "stdout",
          "text": [
            "'08_10_20 Assignment 123018046.pdf'\n",
            "'123018046 (1).pdf'\n",
            "'123018046 (2).pdf'\n",
            " 123018046_DSA_Assignment.pdf\n",
            " 123018046_OS.pdf\n",
            " 123018046.pdf\n",
            " 123018046.zip\n",
            "'2019 June.pdf'\n",
            "'28-12 SE lab.gdoc'\n",
            "'29 Aug Quiz 123018046.pdf'\n",
            " aEDA-dataset.csv\n",
            " aEDA-dataset.gsheet\n",
            "'Assigment20_10_20_Class diagram - 123018046.pdf'\n",
            "'Assignment 1 - 123018046.pdf'\n",
            "'Assignment 1 - 123018046 - SE.pdf'\n",
            "'Assignment 1.pdf'\n",
            "'Assignment 29-10-20.docx'\n",
            "'Assignment 29-10-20.pdf'\n",
            "'Assignment 4.pdf'\n",
            "'Assignment 5 - 123018046 (1).docx'\n",
            "'Assignment 5 - 123018046 (2).docx'\n",
            "'Assignment 5 - 123018046.docx'\n",
            "'Basic Input Output.pdf'\n",
            "'BCG Matrix - My Topic.gdoc'\n",
            "'Buisness Strategy - Project Workboard.gdoc'\n",
            "'Business Strategy Assignment.gdoc'\n",
            " \u001b[0m\u001b[01;34mClassroom\u001b[0m/\n",
            " \u001b[01;34mcloud-classification\u001b[0m/\n",
            " cloud-classification.zip\n",
            "'code 123018046.pdf'\n",
            "\u001b[01;34m'Colab Notebooks'\u001b[0m/\n",
            "'Copy of Interview Prep DSA.gdoc'\n",
            "'Copy of MAKE A COPY OF THE DOC - Harvard CV Template.doc'\n",
            "'Copy of Metamorphosis Business Plan by Slidesgo.gslides'\n",
            "'Copy of OutputFormat-1.cpp'\n",
            "'Copy of Unit 1 .pptx'\n",
            "'CP Attendance.gsheet'\n",
            "'CSS Assignment - 123018046.gdoc'\n",
            "'CSS Assignment List of papers.gdoc'\n",
            " DSA_Assignment_123018046.pdf\n",
            "'DT Project Testing Phase.gdoc'\n",
            "'DT Testing talk.gdoc'\n",
            "'English Assignment.gdoc'\n",
            "'Factor Analysis - 123018046 (1).pdf'\n",
            "'Factor Analysis - 123018046.pdf'\n",
            "'Factor Analysis.gslides'\n",
            "'FLAT_Attendance (2020-08-19).gdoc'\n",
            "'FLAT_U2L3_Ambiguity in Grammars & Languages.gslides'\n",
            "'FLAT_U2L5_Push Down Automata_with writing.gslides'\n",
            "\u001b[01;34m'Formal Language & Automata Theory'\u001b[0m/\n",
            "'Full_Computational Statistics Link doc for Recording and Material (1).gsheet'\n",
            "'Full_Computational Statistics Link doc for Recording and Material (2).gsheet'\n",
            "'Full_Computational Statistics Link doc for Recording and Material.gsheet'\n",
            "'Graphical solutions cont., (2021-03-08 at 00:36 GMT-8)'\n",
            " \u001b[01;36mHomework\u001b[0m@\n",
            "'Hospital_Miniproject_123018046 (1).pdf'\n",
            " Hospital_Miniproject_123018046.pdf\n",
            "'IDE FINAL.pptx'\n",
            " IDE_SE-Assignment_1.pdf\n",
            "'II YEAR -CSBS Mentor - Mentees Details - 2020 -2021.xlsx'\n",
            " IMG_20200829_210845_854.jpg\n",
            "'Introduction to linux - Infinity Team.gslides'\n",
            "'JFLAP Lab Assignment - 123018046.gdoc'\n",
            "'Kandi Fundi.gsheet'\n",
            " K.Geetha-COCA-U1-flip-flop-notes.gdoc\n",
            " K.Geetha-COCA-U3-ParallelProcessing.pdf\n",
            "'Kratos Buddhi.mp4'\n",
            "\u001b[01;34m'KS 22 CSBS'\u001b[0m/\n",
            "'L16 UII Multivariate Regression  (2020-09-10 at 22:33 GMT-7)'\n",
            "'Magic SR Spreadsheet.gsheet'\n",
            " MANOVA_Test_10_10_2020.pdf\n",
            "'Mechanical Keyboard User Manual.gdoc'\n",
            "\u001b[01;34m'Meet Recordings'\u001b[0m/\n",
            "\u001b[01;34m'Mini Project'\u001b[0m/\n",
            "'Mini Project - Abstract.gdoc'\n",
            "\u001b[01;34m'ML FaceReg'\u001b[0m/\n",
            " \u001b[01;34mmlproj\u001b[0m/\n",
            "'My Copy of FINAL450.xlsx'\n",
            " norm_dataset.csv\n",
            "\u001b[01;34m'Object Oriented Programming'\u001b[0m/\n",
            "'OOPS Links.gsheet'\n",
            "'Operations Research Links.gsheet'\n",
            " ProgrammingQuestion-4.gdoc\n",
            "'Prompt ML.gdoc'\n",
            "'Proposal letter.gdoc'\n",
            " question_1.cpp\n",
            " question_2.cpp\n",
            " Resources.gsheet\n",
            "'Review Sheet.gsheet'\n",
            "'Scan 29 Oct 2020.pdf'\n",
            " Schedule.gsheet\n",
            "'SE Assignment_2.pdf'\n",
            "'SE Assignment.pdf'\n",
            "\u001b[01;34m'Sem 5'\u001b[0m/\n",
            "\u001b[01;34m'Sem5 Exam Prep'\u001b[0m/\n",
            "'Sem5 TT.gsheet'\n",
            "\u001b[01;34m'SE UML Lab'\u001b[0m/\n",
            "'Software engineering  a practitioner’s approach by Maxim, Bruce R. Pressman, Roger S. (z-lib.org).pdf'\n",
            " SQL_Practice1_123018046.gdoc\n",
            "'SRS Document - Lab 1 SE UML.gdoc'\n",
            "'Test FoME - Assignment 1.gdoc'\n",
            "'The Algorithm Design Manual by Steven S. Skiena.pdf'\n",
            "'The BCG Matrix.gslides'\n",
            "'Tracking References for Buisness Strategy Assignment.gdoc'\n",
            " UML123018046.gdoc\n",
            "'Unit 1 .pptx'\n",
            "'Unit-1 Refresher Class (1).gslides'\n",
            "'Unit-1 Refresher Class.gslides'\n",
            "'Unit-2 Refresher Class (1).gslides'\n",
            "'Unit-2 Refresher Class (2).gslides'\n",
            "'Unit-2 Refresher Class (3).gslides'\n",
            "'Unit-2 Refresher Class.gslides'\n",
            "'Unit-3 Refresher Class (1).gslides'\n",
            "'Unit-3 Refresher Class (2).gslides'\n",
            "'Unit-3 Refresher Class.gslides'\n",
            "'Unit-4 Refresher Class.gslides'\n",
            "'Untitled document (1).gdoc'\n",
            "'Untitled document (2).gdoc'\n",
            "'Untitled document.gdoc'\n",
            "'Untitled Jam.gjam'\n",
            "\u001b[01;34m'Valorant Clips'\u001b[0m/\n",
            " Vmontage1GamerRK.m4v\n",
            "'Web Exploitation Basics - Terminology.gdoc'\n",
            "'WhatsApp Image 2020-10-17 at 10.36.47 PM.jpeg'\n",
            " \u001b[01;34mWriteups\u001b[0m/\n"
          ]
        }
      ]
    },
    {
      "cell_type": "code",
      "source": [
        "df = pd.read_csv(\"/content/drive/MyDrive/norm_dataset.csv\")\n",
        "#df = pd.read_csv(\"norm_dataset.csv\")\n",
        "df['command_memory'] = 0"
      ],
      "metadata": {
        "id": "g86ZdrsN4Nc6"
      },
      "execution_count": null,
      "outputs": []
    },
    {
      "cell_type": "code",
      "source": [
        "df = df.iloc[: , 1:]\n",
        "df[0]"
      ],
      "metadata": {
        "colab": {
          "base_uri": "https://localhost:8080/",
          "height": 501
        },
        "id": "6TdhCe7z46LF",
        "outputId": "409f4089-bf2a-4f1d-e0cf-7f046b2b8e92"
      },
      "execution_count": null,
      "outputs": [
        {
          "output_type": "error",
          "ename": "KeyError",
          "evalue": "ignored",
          "traceback": [
            "\u001b[0;31m---------------------------------------------------------------------------\u001b[0m",
            "\u001b[0;31mKeyError\u001b[0m                                  Traceback (most recent call last)",
            "\u001b[0;32m/usr/local/lib/python3.7/dist-packages/pandas/core/indexes/base.py\u001b[0m in \u001b[0;36mget_loc\u001b[0;34m(self, key, method, tolerance)\u001b[0m\n\u001b[1;32m   3360\u001b[0m             \u001b[0;32mtry\u001b[0m\u001b[0;34m:\u001b[0m\u001b[0;34m\u001b[0m\u001b[0;34m\u001b[0m\u001b[0m\n\u001b[0;32m-> 3361\u001b[0;31m                 \u001b[0;32mreturn\u001b[0m \u001b[0mself\u001b[0m\u001b[0;34m.\u001b[0m\u001b[0m_engine\u001b[0m\u001b[0;34m.\u001b[0m\u001b[0mget_loc\u001b[0m\u001b[0;34m(\u001b[0m\u001b[0mcasted_key\u001b[0m\u001b[0;34m)\u001b[0m\u001b[0;34m\u001b[0m\u001b[0;34m\u001b[0m\u001b[0m\n\u001b[0m\u001b[1;32m   3362\u001b[0m             \u001b[0;32mexcept\u001b[0m \u001b[0mKeyError\u001b[0m \u001b[0;32mas\u001b[0m \u001b[0merr\u001b[0m\u001b[0;34m:\u001b[0m\u001b[0;34m\u001b[0m\u001b[0;34m\u001b[0m\u001b[0m\n",
            "\u001b[0;32m/usr/local/lib/python3.7/dist-packages/pandas/_libs/index.pyx\u001b[0m in \u001b[0;36mpandas._libs.index.IndexEngine.get_loc\u001b[0;34m()\u001b[0m\n",
            "\u001b[0;32m/usr/local/lib/python3.7/dist-packages/pandas/_libs/index.pyx\u001b[0m in \u001b[0;36mpandas._libs.index.IndexEngine.get_loc\u001b[0;34m()\u001b[0m\n",
            "\u001b[0;32mpandas/_libs/hashtable_class_helper.pxi\u001b[0m in \u001b[0;36mpandas._libs.hashtable.PyObjectHashTable.get_item\u001b[0;34m()\u001b[0m\n",
            "\u001b[0;32mpandas/_libs/hashtable_class_helper.pxi\u001b[0m in \u001b[0;36mpandas._libs.hashtable.PyObjectHashTable.get_item\u001b[0;34m()\u001b[0m\n",
            "\u001b[0;31mKeyError\u001b[0m: 0",
            "\nThe above exception was the direct cause of the following exception:\n",
            "\u001b[0;31mKeyError\u001b[0m                                  Traceback (most recent call last)",
            "\u001b[0;32m<ipython-input-24-52ae26ff5cfb>\u001b[0m in \u001b[0;36m<module>\u001b[0;34m()\u001b[0m\n\u001b[1;32m      1\u001b[0m \u001b[0mdf\u001b[0m \u001b[0;34m=\u001b[0m \u001b[0mdf\u001b[0m\u001b[0;34m.\u001b[0m\u001b[0miloc\u001b[0m\u001b[0;34m[\u001b[0m\u001b[0;34m:\u001b[0m \u001b[0;34m,\u001b[0m \u001b[0;36m1\u001b[0m\u001b[0;34m:\u001b[0m\u001b[0;34m]\u001b[0m\u001b[0;34m\u001b[0m\u001b[0;34m\u001b[0m\u001b[0m\n\u001b[0;32m----> 2\u001b[0;31m \u001b[0mdf\u001b[0m\u001b[0;34m[\u001b[0m\u001b[0;36m0\u001b[0m\u001b[0;34m]\u001b[0m\u001b[0;34m\u001b[0m\u001b[0;34m\u001b[0m\u001b[0m\n\u001b[0m",
            "\u001b[0;32m/usr/local/lib/python3.7/dist-packages/pandas/core/frame.py\u001b[0m in \u001b[0;36m__getitem__\u001b[0;34m(self, key)\u001b[0m\n\u001b[1;32m   3456\u001b[0m             \u001b[0;32mif\u001b[0m \u001b[0mself\u001b[0m\u001b[0;34m.\u001b[0m\u001b[0mcolumns\u001b[0m\u001b[0;34m.\u001b[0m\u001b[0mnlevels\u001b[0m \u001b[0;34m>\u001b[0m \u001b[0;36m1\u001b[0m\u001b[0;34m:\u001b[0m\u001b[0;34m\u001b[0m\u001b[0;34m\u001b[0m\u001b[0m\n\u001b[1;32m   3457\u001b[0m                 \u001b[0;32mreturn\u001b[0m \u001b[0mself\u001b[0m\u001b[0;34m.\u001b[0m\u001b[0m_getitem_multilevel\u001b[0m\u001b[0;34m(\u001b[0m\u001b[0mkey\u001b[0m\u001b[0;34m)\u001b[0m\u001b[0;34m\u001b[0m\u001b[0;34m\u001b[0m\u001b[0m\n\u001b[0;32m-> 3458\u001b[0;31m             \u001b[0mindexer\u001b[0m \u001b[0;34m=\u001b[0m \u001b[0mself\u001b[0m\u001b[0;34m.\u001b[0m\u001b[0mcolumns\u001b[0m\u001b[0;34m.\u001b[0m\u001b[0mget_loc\u001b[0m\u001b[0;34m(\u001b[0m\u001b[0mkey\u001b[0m\u001b[0;34m)\u001b[0m\u001b[0;34m\u001b[0m\u001b[0;34m\u001b[0m\u001b[0m\n\u001b[0m\u001b[1;32m   3459\u001b[0m             \u001b[0;32mif\u001b[0m \u001b[0mis_integer\u001b[0m\u001b[0;34m(\u001b[0m\u001b[0mindexer\u001b[0m\u001b[0;34m)\u001b[0m\u001b[0;34m:\u001b[0m\u001b[0;34m\u001b[0m\u001b[0;34m\u001b[0m\u001b[0m\n\u001b[1;32m   3460\u001b[0m                 \u001b[0mindexer\u001b[0m \u001b[0;34m=\u001b[0m \u001b[0;34m[\u001b[0m\u001b[0mindexer\u001b[0m\u001b[0;34m]\u001b[0m\u001b[0;34m\u001b[0m\u001b[0;34m\u001b[0m\u001b[0m\n",
            "\u001b[0;32m/usr/local/lib/python3.7/dist-packages/pandas/core/indexes/base.py\u001b[0m in \u001b[0;36mget_loc\u001b[0;34m(self, key, method, tolerance)\u001b[0m\n\u001b[1;32m   3361\u001b[0m                 \u001b[0;32mreturn\u001b[0m \u001b[0mself\u001b[0m\u001b[0;34m.\u001b[0m\u001b[0m_engine\u001b[0m\u001b[0;34m.\u001b[0m\u001b[0mget_loc\u001b[0m\u001b[0;34m(\u001b[0m\u001b[0mcasted_key\u001b[0m\u001b[0;34m)\u001b[0m\u001b[0;34m\u001b[0m\u001b[0;34m\u001b[0m\u001b[0m\n\u001b[1;32m   3362\u001b[0m             \u001b[0;32mexcept\u001b[0m \u001b[0mKeyError\u001b[0m \u001b[0;32mas\u001b[0m \u001b[0merr\u001b[0m\u001b[0;34m:\u001b[0m\u001b[0;34m\u001b[0m\u001b[0;34m\u001b[0m\u001b[0m\n\u001b[0;32m-> 3363\u001b[0;31m                 \u001b[0;32mraise\u001b[0m \u001b[0mKeyError\u001b[0m\u001b[0;34m(\u001b[0m\u001b[0mkey\u001b[0m\u001b[0;34m)\u001b[0m \u001b[0;32mfrom\u001b[0m \u001b[0merr\u001b[0m\u001b[0;34m\u001b[0m\u001b[0;34m\u001b[0m\u001b[0m\n\u001b[0m\u001b[1;32m   3364\u001b[0m \u001b[0;34m\u001b[0m\u001b[0m\n\u001b[1;32m   3365\u001b[0m         \u001b[0;32mif\u001b[0m \u001b[0mis_scalar\u001b[0m\u001b[0;34m(\u001b[0m\u001b[0mkey\u001b[0m\u001b[0;34m)\u001b[0m \u001b[0;32mand\u001b[0m \u001b[0misna\u001b[0m\u001b[0;34m(\u001b[0m\u001b[0mkey\u001b[0m\u001b[0;34m)\u001b[0m \u001b[0;32mand\u001b[0m \u001b[0;32mnot\u001b[0m \u001b[0mself\u001b[0m\u001b[0;34m.\u001b[0m\u001b[0mhasnans\u001b[0m\u001b[0;34m:\u001b[0m\u001b[0;34m\u001b[0m\u001b[0;34m\u001b[0m\u001b[0m\n",
            "\u001b[0;31mKeyError\u001b[0m: 0"
          ]
        }
      ]
    },
    {
      "cell_type": "code",
      "source": [
        "df['comm_read_function'] = 0\n",
        "df['resp_read_fun'] = 0\n",
        "df['control_scheme'] = 0\n",
        "df['command_length'] = 0"
      ],
      "metadata": {
        "id": "vIlq3ttN4_aV"
      },
      "execution_count": null,
      "outputs": []
    },
    {
      "cell_type": "code",
      "source": [
        "df"
      ],
      "metadata": {
        "colab": {
          "base_uri": "https://localhost:8080/",
          "height": 488
        },
        "id": "bAdF8dl05H7l",
        "outputId": "8aa99b6b-3f33-47f0-dca5-c1d12368e034"
      },
      "execution_count": null,
      "outputs": [
        {
          "output_type": "execute_result",
          "data": {
            "text/plain": [
              "        command_address  response_address  command_memory  response_memory  \\\n",
              "0              0.061224               1.0               0              1.0   \n",
              "1              0.061224               1.0               0              1.0   \n",
              "2              0.061224               1.0               0              1.0   \n",
              "3              0.061224               1.0               0              1.0   \n",
              "4              0.061224               1.0               0              1.0   \n",
              "...                 ...               ...             ...              ...   \n",
              "236174         0.061224               1.0               0              1.0   \n",
              "236175         0.061224               1.0               0              1.0   \n",
              "236176         0.061224               1.0               0              1.0   \n",
              "236177         0.061224               1.0               0              1.0   \n",
              "236178         0.061224               1.0               0              1.0   \n",
              "\n",
              "        command_memory_count  response_memory_count  comm_read_function  \\\n",
              "0                        0.0                    1.0                   0   \n",
              "1                        0.0                    1.0                   0   \n",
              "2                        0.0                    1.0                   0   \n",
              "3                        0.0                    1.0                   0   \n",
              "4                        0.0                    1.0                   0   \n",
              "...                      ...                    ...                 ...   \n",
              "236174                   1.0                    1.0                   0   \n",
              "236175                   1.0                    1.0                   0   \n",
              "236176                   1.0                    1.0                   0   \n",
              "236177                   1.0                    1.0                   0   \n",
              "236178                   1.0                    1.0                   0   \n",
              "\n",
              "        comm_write_fun  resp_read_fun  resp_write_fun  ...        H        L  \\\n",
              "0                  0.0              0             1.0  ...  0.33195  0.07874   \n",
              "1                  0.0              0             1.0  ...  0.33195  0.07874   \n",
              "2                  0.0              0             1.0  ...  0.33195  0.07874   \n",
              "3                  0.0              0             1.0  ...  0.33195  0.07874   \n",
              "4                  0.0              0             1.0  ...  0.33195  0.07874   \n",
              "...                ...            ...             ...  ...      ...      ...   \n",
              "236174             0.0              0             1.0  ...  0.33195  0.07874   \n",
              "236175             0.0              0             1.0  ...  0.33195  0.07874   \n",
              "236176             0.0              0             1.0  ...  0.33195  0.07874   \n",
              "236177             0.0              0             1.0  ...  0.33195  0.07874   \n",
              "236178             0.0              0             1.0  ...  0.33195  0.07874   \n",
              "\n",
              "              LL  control_mode  control_scheme  pump  crc_rate  measurement  \\\n",
              "0       0.039216           1.0               0   0.0       1.0     0.475336   \n",
              "1       0.039216           1.0               0   0.0       1.0     0.475336   \n",
              "2       0.039216           1.0               0   0.0       1.0     0.475336   \n",
              "3       0.039216           1.0               0   0.0       1.0     0.475336   \n",
              "4       0.039216           1.0               0   0.0       1.0     0.475336   \n",
              "...          ...           ...             ...   ...       ...          ...   \n",
              "236174  0.039216           1.0               0   0.0       0.0     0.475336   \n",
              "236175  0.039216           1.0               0   0.0       0.0     0.475336   \n",
              "236176  0.039216           1.0               0   0.0       0.0     0.475336   \n",
              "236177  0.039216           1.0               0   0.0       0.0     0.475336   \n",
              "236178  0.039216           1.0               0   0.0       0.0     0.475336   \n",
              "\n",
              "            time  result  \n",
              "0       0.433333     0.0  \n",
              "1       0.833333     0.0  \n",
              "2       0.133333     0.0  \n",
              "3       0.233333     0.0  \n",
              "4       0.666667     0.0  \n",
              "...          ...     ...  \n",
              "236174  1.000000     0.0  \n",
              "236175  0.666667     0.0  \n",
              "236176  0.166667     0.0  \n",
              "236177  0.233333     0.0  \n",
              "236178  0.166667     0.0  \n",
              "\n",
              "[236179 rows x 24 columns]"
            ],
            "text/html": [
              "\n",
              "  <div id=\"df-90e2f05b-a79b-4b68-acac-3d265e80c26b\">\n",
              "    <div class=\"colab-df-container\">\n",
              "      <div>\n",
              "<style scoped>\n",
              "    .dataframe tbody tr th:only-of-type {\n",
              "        vertical-align: middle;\n",
              "    }\n",
              "\n",
              "    .dataframe tbody tr th {\n",
              "        vertical-align: top;\n",
              "    }\n",
              "\n",
              "    .dataframe thead th {\n",
              "        text-align: right;\n",
              "    }\n",
              "</style>\n",
              "<table border=\"1\" class=\"dataframe\">\n",
              "  <thead>\n",
              "    <tr style=\"text-align: right;\">\n",
              "      <th></th>\n",
              "      <th>command_address</th>\n",
              "      <th>response_address</th>\n",
              "      <th>command_memory</th>\n",
              "      <th>response_memory</th>\n",
              "      <th>command_memory_count</th>\n",
              "      <th>response_memory_count</th>\n",
              "      <th>comm_read_function</th>\n",
              "      <th>comm_write_fun</th>\n",
              "      <th>resp_read_fun</th>\n",
              "      <th>resp_write_fun</th>\n",
              "      <th>...</th>\n",
              "      <th>H</th>\n",
              "      <th>L</th>\n",
              "      <th>LL</th>\n",
              "      <th>control_mode</th>\n",
              "      <th>control_scheme</th>\n",
              "      <th>pump</th>\n",
              "      <th>crc_rate</th>\n",
              "      <th>measurement</th>\n",
              "      <th>time</th>\n",
              "      <th>result</th>\n",
              "    </tr>\n",
              "  </thead>\n",
              "  <tbody>\n",
              "    <tr>\n",
              "      <th>0</th>\n",
              "      <td>0.061224</td>\n",
              "      <td>1.0</td>\n",
              "      <td>0</td>\n",
              "      <td>1.0</td>\n",
              "      <td>0.0</td>\n",
              "      <td>1.0</td>\n",
              "      <td>0</td>\n",
              "      <td>0.0</td>\n",
              "      <td>0</td>\n",
              "      <td>1.0</td>\n",
              "      <td>...</td>\n",
              "      <td>0.33195</td>\n",
              "      <td>0.07874</td>\n",
              "      <td>0.039216</td>\n",
              "      <td>1.0</td>\n",
              "      <td>0</td>\n",
              "      <td>0.0</td>\n",
              "      <td>1.0</td>\n",
              "      <td>0.475336</td>\n",
              "      <td>0.433333</td>\n",
              "      <td>0.0</td>\n",
              "    </tr>\n",
              "    <tr>\n",
              "      <th>1</th>\n",
              "      <td>0.061224</td>\n",
              "      <td>1.0</td>\n",
              "      <td>0</td>\n",
              "      <td>1.0</td>\n",
              "      <td>0.0</td>\n",
              "      <td>1.0</td>\n",
              "      <td>0</td>\n",
              "      <td>0.0</td>\n",
              "      <td>0</td>\n",
              "      <td>1.0</td>\n",
              "      <td>...</td>\n",
              "      <td>0.33195</td>\n",
              "      <td>0.07874</td>\n",
              "      <td>0.039216</td>\n",
              "      <td>1.0</td>\n",
              "      <td>0</td>\n",
              "      <td>0.0</td>\n",
              "      <td>1.0</td>\n",
              "      <td>0.475336</td>\n",
              "      <td>0.833333</td>\n",
              "      <td>0.0</td>\n",
              "    </tr>\n",
              "    <tr>\n",
              "      <th>2</th>\n",
              "      <td>0.061224</td>\n",
              "      <td>1.0</td>\n",
              "      <td>0</td>\n",
              "      <td>1.0</td>\n",
              "      <td>0.0</td>\n",
              "      <td>1.0</td>\n",
              "      <td>0</td>\n",
              "      <td>0.0</td>\n",
              "      <td>0</td>\n",
              "      <td>1.0</td>\n",
              "      <td>...</td>\n",
              "      <td>0.33195</td>\n",
              "      <td>0.07874</td>\n",
              "      <td>0.039216</td>\n",
              "      <td>1.0</td>\n",
              "      <td>0</td>\n",
              "      <td>0.0</td>\n",
              "      <td>1.0</td>\n",
              "      <td>0.475336</td>\n",
              "      <td>0.133333</td>\n",
              "      <td>0.0</td>\n",
              "    </tr>\n",
              "    <tr>\n",
              "      <th>3</th>\n",
              "      <td>0.061224</td>\n",
              "      <td>1.0</td>\n",
              "      <td>0</td>\n",
              "      <td>1.0</td>\n",
              "      <td>0.0</td>\n",
              "      <td>1.0</td>\n",
              "      <td>0</td>\n",
              "      <td>0.0</td>\n",
              "      <td>0</td>\n",
              "      <td>1.0</td>\n",
              "      <td>...</td>\n",
              "      <td>0.33195</td>\n",
              "      <td>0.07874</td>\n",
              "      <td>0.039216</td>\n",
              "      <td>1.0</td>\n",
              "      <td>0</td>\n",
              "      <td>0.0</td>\n",
              "      <td>1.0</td>\n",
              "      <td>0.475336</td>\n",
              "      <td>0.233333</td>\n",
              "      <td>0.0</td>\n",
              "    </tr>\n",
              "    <tr>\n",
              "      <th>4</th>\n",
              "      <td>0.061224</td>\n",
              "      <td>1.0</td>\n",
              "      <td>0</td>\n",
              "      <td>1.0</td>\n",
              "      <td>0.0</td>\n",
              "      <td>1.0</td>\n",
              "      <td>0</td>\n",
              "      <td>0.0</td>\n",
              "      <td>0</td>\n",
              "      <td>1.0</td>\n",
              "      <td>...</td>\n",
              "      <td>0.33195</td>\n",
              "      <td>0.07874</td>\n",
              "      <td>0.039216</td>\n",
              "      <td>1.0</td>\n",
              "      <td>0</td>\n",
              "      <td>0.0</td>\n",
              "      <td>1.0</td>\n",
              "      <td>0.475336</td>\n",
              "      <td>0.666667</td>\n",
              "      <td>0.0</td>\n",
              "    </tr>\n",
              "    <tr>\n",
              "      <th>...</th>\n",
              "      <td>...</td>\n",
              "      <td>...</td>\n",
              "      <td>...</td>\n",
              "      <td>...</td>\n",
              "      <td>...</td>\n",
              "      <td>...</td>\n",
              "      <td>...</td>\n",
              "      <td>...</td>\n",
              "      <td>...</td>\n",
              "      <td>...</td>\n",
              "      <td>...</td>\n",
              "      <td>...</td>\n",
              "      <td>...</td>\n",
              "      <td>...</td>\n",
              "      <td>...</td>\n",
              "      <td>...</td>\n",
              "      <td>...</td>\n",
              "      <td>...</td>\n",
              "      <td>...</td>\n",
              "      <td>...</td>\n",
              "      <td>...</td>\n",
              "    </tr>\n",
              "    <tr>\n",
              "      <th>236174</th>\n",
              "      <td>0.061224</td>\n",
              "      <td>1.0</td>\n",
              "      <td>0</td>\n",
              "      <td>1.0</td>\n",
              "      <td>1.0</td>\n",
              "      <td>1.0</td>\n",
              "      <td>0</td>\n",
              "      <td>0.0</td>\n",
              "      <td>0</td>\n",
              "      <td>1.0</td>\n",
              "      <td>...</td>\n",
              "      <td>0.33195</td>\n",
              "      <td>0.07874</td>\n",
              "      <td>0.039216</td>\n",
              "      <td>1.0</td>\n",
              "      <td>0</td>\n",
              "      <td>0.0</td>\n",
              "      <td>0.0</td>\n",
              "      <td>0.475336</td>\n",
              "      <td>1.000000</td>\n",
              "      <td>0.0</td>\n",
              "    </tr>\n",
              "    <tr>\n",
              "      <th>236175</th>\n",
              "      <td>0.061224</td>\n",
              "      <td>1.0</td>\n",
              "      <td>0</td>\n",
              "      <td>1.0</td>\n",
              "      <td>1.0</td>\n",
              "      <td>1.0</td>\n",
              "      <td>0</td>\n",
              "      <td>0.0</td>\n",
              "      <td>0</td>\n",
              "      <td>1.0</td>\n",
              "      <td>...</td>\n",
              "      <td>0.33195</td>\n",
              "      <td>0.07874</td>\n",
              "      <td>0.039216</td>\n",
              "      <td>1.0</td>\n",
              "      <td>0</td>\n",
              "      <td>0.0</td>\n",
              "      <td>0.0</td>\n",
              "      <td>0.475336</td>\n",
              "      <td>0.666667</td>\n",
              "      <td>0.0</td>\n",
              "    </tr>\n",
              "    <tr>\n",
              "      <th>236176</th>\n",
              "      <td>0.061224</td>\n",
              "      <td>1.0</td>\n",
              "      <td>0</td>\n",
              "      <td>1.0</td>\n",
              "      <td>1.0</td>\n",
              "      <td>1.0</td>\n",
              "      <td>0</td>\n",
              "      <td>0.0</td>\n",
              "      <td>0</td>\n",
              "      <td>1.0</td>\n",
              "      <td>...</td>\n",
              "      <td>0.33195</td>\n",
              "      <td>0.07874</td>\n",
              "      <td>0.039216</td>\n",
              "      <td>1.0</td>\n",
              "      <td>0</td>\n",
              "      <td>0.0</td>\n",
              "      <td>0.0</td>\n",
              "      <td>0.475336</td>\n",
              "      <td>0.166667</td>\n",
              "      <td>0.0</td>\n",
              "    </tr>\n",
              "    <tr>\n",
              "      <th>236177</th>\n",
              "      <td>0.061224</td>\n",
              "      <td>1.0</td>\n",
              "      <td>0</td>\n",
              "      <td>1.0</td>\n",
              "      <td>1.0</td>\n",
              "      <td>1.0</td>\n",
              "      <td>0</td>\n",
              "      <td>0.0</td>\n",
              "      <td>0</td>\n",
              "      <td>1.0</td>\n",
              "      <td>...</td>\n",
              "      <td>0.33195</td>\n",
              "      <td>0.07874</td>\n",
              "      <td>0.039216</td>\n",
              "      <td>1.0</td>\n",
              "      <td>0</td>\n",
              "      <td>0.0</td>\n",
              "      <td>0.0</td>\n",
              "      <td>0.475336</td>\n",
              "      <td>0.233333</td>\n",
              "      <td>0.0</td>\n",
              "    </tr>\n",
              "    <tr>\n",
              "      <th>236178</th>\n",
              "      <td>0.061224</td>\n",
              "      <td>1.0</td>\n",
              "      <td>0</td>\n",
              "      <td>1.0</td>\n",
              "      <td>1.0</td>\n",
              "      <td>1.0</td>\n",
              "      <td>0</td>\n",
              "      <td>0.0</td>\n",
              "      <td>0</td>\n",
              "      <td>1.0</td>\n",
              "      <td>...</td>\n",
              "      <td>0.33195</td>\n",
              "      <td>0.07874</td>\n",
              "      <td>0.039216</td>\n",
              "      <td>1.0</td>\n",
              "      <td>0</td>\n",
              "      <td>0.0</td>\n",
              "      <td>0.0</td>\n",
              "      <td>0.475336</td>\n",
              "      <td>0.166667</td>\n",
              "      <td>0.0</td>\n",
              "    </tr>\n",
              "  </tbody>\n",
              "</table>\n",
              "<p>236179 rows × 24 columns</p>\n",
              "</div>\n",
              "      <button class=\"colab-df-convert\" onclick=\"convertToInteractive('df-90e2f05b-a79b-4b68-acac-3d265e80c26b')\"\n",
              "              title=\"Convert this dataframe to an interactive table.\"\n",
              "              style=\"display:none;\">\n",
              "        \n",
              "  <svg xmlns=\"http://www.w3.org/2000/svg\" height=\"24px\"viewBox=\"0 0 24 24\"\n",
              "       width=\"24px\">\n",
              "    <path d=\"M0 0h24v24H0V0z\" fill=\"none\"/>\n",
              "    <path d=\"M18.56 5.44l.94 2.06.94-2.06 2.06-.94-2.06-.94-.94-2.06-.94 2.06-2.06.94zm-11 1L8.5 8.5l.94-2.06 2.06-.94-2.06-.94L8.5 2.5l-.94 2.06-2.06.94zm10 10l.94 2.06.94-2.06 2.06-.94-2.06-.94-.94-2.06-.94 2.06-2.06.94z\"/><path d=\"M17.41 7.96l-1.37-1.37c-.4-.4-.92-.59-1.43-.59-.52 0-1.04.2-1.43.59L10.3 9.45l-7.72 7.72c-.78.78-.78 2.05 0 2.83L4 21.41c.39.39.9.59 1.41.59.51 0 1.02-.2 1.41-.59l7.78-7.78 2.81-2.81c.8-.78.8-2.07 0-2.86zM5.41 20L4 18.59l7.72-7.72 1.47 1.35L5.41 20z\"/>\n",
              "  </svg>\n",
              "      </button>\n",
              "      \n",
              "  <style>\n",
              "    .colab-df-container {\n",
              "      display:flex;\n",
              "      flex-wrap:wrap;\n",
              "      gap: 12px;\n",
              "    }\n",
              "\n",
              "    .colab-df-convert {\n",
              "      background-color: #E8F0FE;\n",
              "      border: none;\n",
              "      border-radius: 50%;\n",
              "      cursor: pointer;\n",
              "      display: none;\n",
              "      fill: #1967D2;\n",
              "      height: 32px;\n",
              "      padding: 0 0 0 0;\n",
              "      width: 32px;\n",
              "    }\n",
              "\n",
              "    .colab-df-convert:hover {\n",
              "      background-color: #E2EBFA;\n",
              "      box-shadow: 0px 1px 2px rgba(60, 64, 67, 0.3), 0px 1px 3px 1px rgba(60, 64, 67, 0.15);\n",
              "      fill: #174EA6;\n",
              "    }\n",
              "\n",
              "    [theme=dark] .colab-df-convert {\n",
              "      background-color: #3B4455;\n",
              "      fill: #D2E3FC;\n",
              "    }\n",
              "\n",
              "    [theme=dark] .colab-df-convert:hover {\n",
              "      background-color: #434B5C;\n",
              "      box-shadow: 0px 1px 3px 1px rgba(0, 0, 0, 0.15);\n",
              "      filter: drop-shadow(0px 1px 2px rgba(0, 0, 0, 0.3));\n",
              "      fill: #FFFFFF;\n",
              "    }\n",
              "  </style>\n",
              "\n",
              "      <script>\n",
              "        const buttonEl =\n",
              "          document.querySelector('#df-90e2f05b-a79b-4b68-acac-3d265e80c26b button.colab-df-convert');\n",
              "        buttonEl.style.display =\n",
              "          google.colab.kernel.accessAllowed ? 'block' : 'none';\n",
              "\n",
              "        async function convertToInteractive(key) {\n",
              "          const element = document.querySelector('#df-90e2f05b-a79b-4b68-acac-3d265e80c26b');\n",
              "          const dataTable =\n",
              "            await google.colab.kernel.invokeFunction('convertToInteractive',\n",
              "                                                     [key], {});\n",
              "          if (!dataTable) return;\n",
              "\n",
              "          const docLinkHtml = 'Like what you see? Visit the ' +\n",
              "            '<a target=\"_blank\" href=https://colab.research.google.com/notebooks/data_table.ipynb>data table notebook</a>'\n",
              "            + ' to learn more about interactive tables.';\n",
              "          element.innerHTML = '';\n",
              "          dataTable['output_type'] = 'display_data';\n",
              "          await google.colab.output.renderOutput(dataTable, element);\n",
              "          const docLink = document.createElement('div');\n",
              "          docLink.innerHTML = docLinkHtml;\n",
              "          element.appendChild(docLink);\n",
              "        }\n",
              "      </script>\n",
              "    </div>\n",
              "  </div>\n",
              "  "
            ]
          },
          "metadata": {},
          "execution_count": 27
        }
      ]
    },
    {
      "cell_type": "code",
      "source": [
        "result = dfo['result']\n",
        "df = df.drop(['result'],axis=1)\n",
        "result = result.to_numpy()\n",
        "\n",
        "Y = []\n",
        "for i in result:\n",
        "  classes = [0] * 8\n",
        "  classes[i] = 1\n",
        "  Y.append(classes)\n"
      ],
      "metadata": {
        "id": "2tgFfTlzdqZl"
      },
      "execution_count": null,
      "outputs": []
    },
    {
      "cell_type": "code",
      "source": [
        "dataset = df.to_numpy()\n",
        "dataset"
      ],
      "metadata": {
        "colab": {
          "base_uri": "https://localhost:8080/"
        },
        "id": "NeZEuFR45xjE",
        "outputId": "4859eb44-956c-4eda-e068-a9c8c55201b5"
      },
      "execution_count": null,
      "outputs": [
        {
          "output_type": "execute_result",
          "data": {
            "text/plain": [
              "array([[0.06122449, 1.        , 0.        , ..., 1.        , 0.47533632,\n",
              "        0.43333333],\n",
              "       [0.06122449, 1.        , 0.        , ..., 1.        , 0.47533632,\n",
              "        0.83333333],\n",
              "       [0.06122449, 1.        , 0.        , ..., 1.        , 0.47533632,\n",
              "        0.13333333],\n",
              "       ...,\n",
              "       [0.06122449, 1.        , 0.        , ..., 0.        , 0.47533632,\n",
              "        0.16666667],\n",
              "       [0.06122449, 1.        , 0.        , ..., 0.        , 0.47533632,\n",
              "        0.23333333],\n",
              "       [0.06122449, 1.        , 0.        , ..., 0.        , 0.47533632,\n",
              "        0.16666667]])"
            ]
          },
          "metadata": {},
          "execution_count": 29
        }
      ]
    },
    {
      "cell_type": "code",
      "source": [
        "dataset.shape"
      ],
      "metadata": {
        "colab": {
          "base_uri": "https://localhost:8080/"
        },
        "id": "N7BoDXtj5yrI",
        "outputId": "1bfe68b3-e0ac-4b81-9261-a3182e57df6b"
      },
      "execution_count": null,
      "outputs": [
        {
          "output_type": "execute_result",
          "data": {
            "text/plain": [
              "(236179, 23)"
            ]
          },
          "metadata": {},
          "execution_count": 30
        }
      ]
    },
    {
      "cell_type": "code",
      "source": [
        "Y = np.fromfile(\"dataset_Y.dat\", dtype=int)"
      ],
      "metadata": {
        "id": "C5Tl4FzEBvh9",
        "colab": {
          "base_uri": "https://localhost:8080/",
          "height": 165
        },
        "outputId": "22330bde-ae7d-46e2-afe0-69577968a0fd"
      },
      "execution_count": null,
      "outputs": [
        {
          "output_type": "error",
          "ename": "FileNotFoundError",
          "evalue": "ignored",
          "traceback": [
            "\u001b[0;31m---------------------------------------------------------------------------\u001b[0m",
            "\u001b[0;31mFileNotFoundError\u001b[0m                         Traceback (most recent call last)",
            "\u001b[0;32m<ipython-input-31-6e254372b3f6>\u001b[0m in \u001b[0;36m<module>\u001b[0;34m()\u001b[0m\n\u001b[0;32m----> 1\u001b[0;31m \u001b[0mY\u001b[0m \u001b[0;34m=\u001b[0m \u001b[0mnp\u001b[0m\u001b[0;34m.\u001b[0m\u001b[0mfromfile\u001b[0m\u001b[0;34m(\u001b[0m\u001b[0;34m\"dataset_Y.dat\"\u001b[0m\u001b[0;34m,\u001b[0m \u001b[0mdtype\u001b[0m\u001b[0;34m=\u001b[0m\u001b[0mint\u001b[0m\u001b[0;34m)\u001b[0m\u001b[0;34m\u001b[0m\u001b[0;34m\u001b[0m\u001b[0m\n\u001b[0m",
            "\u001b[0;31mFileNotFoundError\u001b[0m: [Errno 2] No such file or directory: 'dataset_Y.dat'"
          ]
        }
      ]
    },
    {
      "cell_type": "code",
      "source": [
        "#Y = np.array(list([0, 1] if i else [1, 0] for i in np.random.randint(0, 2, size=(236179,))))\n"
      ],
      "metadata": {
        "id": "ilWf4oMNo1g3"
      },
      "execution_count": null,
      "outputs": []
    },
    {
      "cell_type": "code",
      "source": [
        "# [1, 0] => True\n",
        "# [0, 1] => False\n",
        "# 0 index = True, 1 index = False\n",
        "Y, Y.shape"
      ],
      "metadata": {
        "id": "YoCYhT2R7V2o"
      },
      "execution_count": null,
      "outputs": []
    },
    {
      "cell_type": "code",
      "source": [
        "fnn_model = Sequential()\n",
        "fnn_model.add(Dense(12, input_shape=(None, 24), activation='relu'))\n",
        "fnn_model.add(Dense(8, activation='relu'))\n",
        "fnn_model.add(Dense(8, activation='sigmoid'))\n",
        "fnn_model.summary()"
      ],
      "metadata": {
        "colab": {
          "base_uri": "https://localhost:8080/",
          "height": 235
        },
        "id": "jZVEmhAh4QOc",
        "outputId": "2bc3e63d-d023-4ae5-a1e1-d8863ee056b8"
      },
      "execution_count": null,
      "outputs": [
        {
          "output_type": "error",
          "ename": "NameError",
          "evalue": "ignored",
          "traceback": [
            "\u001b[0;31m---------------------------------------------------------------------------\u001b[0m",
            "\u001b[0;31mNameError\u001b[0m                                 Traceback (most recent call last)",
            "\u001b[0;32m<ipython-input-4-96ebefdd78ee>\u001b[0m in \u001b[0;36m<module>\u001b[0;34m()\u001b[0m\n\u001b[0;32m----> 1\u001b[0;31m \u001b[0mfnn_model\u001b[0m \u001b[0;34m=\u001b[0m \u001b[0mSequential\u001b[0m\u001b[0;34m(\u001b[0m\u001b[0;34m)\u001b[0m\u001b[0;34m\u001b[0m\u001b[0;34m\u001b[0m\u001b[0m\n\u001b[0m\u001b[1;32m      2\u001b[0m \u001b[0mfnn_model\u001b[0m\u001b[0;34m.\u001b[0m\u001b[0madd\u001b[0m\u001b[0;34m(\u001b[0m\u001b[0mDense\u001b[0m\u001b[0;34m(\u001b[0m\u001b[0;36m12\u001b[0m\u001b[0;34m,\u001b[0m \u001b[0minput_shape\u001b[0m\u001b[0;34m=\u001b[0m\u001b[0;34m(\u001b[0m\u001b[0;32mNone\u001b[0m\u001b[0;34m,\u001b[0m \u001b[0;36m24\u001b[0m\u001b[0;34m)\u001b[0m\u001b[0;34m,\u001b[0m \u001b[0mactivation\u001b[0m\u001b[0;34m=\u001b[0m\u001b[0;34m'relu'\u001b[0m\u001b[0;34m)\u001b[0m\u001b[0;34m)\u001b[0m\u001b[0;34m\u001b[0m\u001b[0;34m\u001b[0m\u001b[0m\n\u001b[1;32m      3\u001b[0m \u001b[0mfnn_model\u001b[0m\u001b[0;34m.\u001b[0m\u001b[0madd\u001b[0m\u001b[0;34m(\u001b[0m\u001b[0mDense\u001b[0m\u001b[0;34m(\u001b[0m\u001b[0;36m8\u001b[0m\u001b[0;34m,\u001b[0m \u001b[0mactivation\u001b[0m\u001b[0;34m=\u001b[0m\u001b[0;34m'relu'\u001b[0m\u001b[0;34m)\u001b[0m\u001b[0;34m)\u001b[0m\u001b[0;34m\u001b[0m\u001b[0;34m\u001b[0m\u001b[0m\n\u001b[1;32m      4\u001b[0m \u001b[0mfnn_model\u001b[0m\u001b[0;34m.\u001b[0m\u001b[0madd\u001b[0m\u001b[0;34m(\u001b[0m\u001b[0mDense\u001b[0m\u001b[0;34m(\u001b[0m\u001b[0;36m8\u001b[0m\u001b[0;34m,\u001b[0m \u001b[0mactivation\u001b[0m\u001b[0;34m=\u001b[0m\u001b[0;34m'sigmoid'\u001b[0m\u001b[0;34m)\u001b[0m\u001b[0;34m)\u001b[0m\u001b[0;34m\u001b[0m\u001b[0;34m\u001b[0m\u001b[0m\n\u001b[1;32m      5\u001b[0m \u001b[0mfnn_model\u001b[0m\u001b[0;34m.\u001b[0m\u001b[0msummary\u001b[0m\u001b[0;34m(\u001b[0m\u001b[0;34m)\u001b[0m\u001b[0;34m\u001b[0m\u001b[0;34m\u001b[0m\u001b[0m\n",
            "\u001b[0;31mNameError\u001b[0m: name 'Sequential' is not defined"
          ]
        }
      ]
    },
    {
      "cell_type": "code",
      "source": [
        "fnn_model.compile(loss='binary_crossentropy', optimizer='adam', metrics=['accuracy'])"
      ],
      "metadata": {
        "id": "VAVLA6ou58F5",
        "colab": {
          "base_uri": "https://localhost:8080/",
          "height": 165
        },
        "outputId": "b2270f22-9c00-4d5a-9360-cee7407d89f5"
      },
      "execution_count": null,
      "outputs": [
        {
          "output_type": "error",
          "ename": "NameError",
          "evalue": "ignored",
          "traceback": [
            "\u001b[0;31m---------------------------------------------------------------------------\u001b[0m",
            "\u001b[0;31mNameError\u001b[0m                                 Traceback (most recent call last)",
            "\u001b[0;32m<ipython-input-3-dcdc427b4cef>\u001b[0m in \u001b[0;36m<module>\u001b[0;34m()\u001b[0m\n\u001b[0;32m----> 1\u001b[0;31m \u001b[0mfnn_model\u001b[0m\u001b[0;34m.\u001b[0m\u001b[0mcompile\u001b[0m\u001b[0;34m(\u001b[0m\u001b[0mloss\u001b[0m\u001b[0;34m=\u001b[0m\u001b[0;34m'binary_crossentropy'\u001b[0m\u001b[0;34m,\u001b[0m \u001b[0moptimizer\u001b[0m\u001b[0;34m=\u001b[0m\u001b[0;34m'adam'\u001b[0m\u001b[0;34m,\u001b[0m \u001b[0mmetrics\u001b[0m\u001b[0;34m=\u001b[0m\u001b[0;34m[\u001b[0m\u001b[0;34m'accuracy'\u001b[0m\u001b[0;34m]\u001b[0m\u001b[0;34m)\u001b[0m\u001b[0;34m\u001b[0m\u001b[0;34m\u001b[0m\u001b[0m\n\u001b[0m",
            "\u001b[0;31mNameError\u001b[0m: name 'fnn_model' is not defined"
          ]
        }
      ]
    },
    {
      "cell_type": "code",
      "source": [
        "X = dataset"
      ],
      "metadata": {
        "id": "_F1nP1XF6wyd"
      },
      "execution_count": null,
      "outputs": []
    },
    {
      "cell_type": "code",
      "source": [
        "history = fnn_model.fit(X, Y, epochs=2, batch_size=100)\n",
        "# evaluate the keras model\n",
        "_, accuracy = fnn_model.evaluate(X, Y)\n",
        "print('Accuracy: %.2f' % (accuracy*100))"
      ],
      "metadata": {
        "id": "luI9x5Zq592e",
        "colab": {
          "base_uri": "https://localhost:8080/",
          "height": 217
        },
        "outputId": "9c646e31-2d9e-4a70-a097-e081d7534bbe"
      },
      "execution_count": null,
      "outputs": [
        {
          "output_type": "error",
          "ename": "NameError",
          "evalue": "ignored",
          "traceback": [
            "\u001b[0;31m---------------------------------------------------------------------------\u001b[0m",
            "\u001b[0;31mNameError\u001b[0m                                 Traceback (most recent call last)",
            "\u001b[0;32m<ipython-input-2-85f9c88047dc>\u001b[0m in \u001b[0;36m<module>\u001b[0;34m()\u001b[0m\n\u001b[0;32m----> 1\u001b[0;31m \u001b[0mhistory\u001b[0m \u001b[0;34m=\u001b[0m \u001b[0mfnn_model\u001b[0m\u001b[0;34m.\u001b[0m\u001b[0mfit\u001b[0m\u001b[0;34m(\u001b[0m\u001b[0mX\u001b[0m\u001b[0;34m,\u001b[0m \u001b[0mY\u001b[0m\u001b[0;34m,\u001b[0m \u001b[0mepochs\u001b[0m\u001b[0;34m=\u001b[0m\u001b[0;36m2\u001b[0m\u001b[0;34m,\u001b[0m \u001b[0mbatch_size\u001b[0m\u001b[0;34m=\u001b[0m\u001b[0;36m100\u001b[0m\u001b[0;34m)\u001b[0m\u001b[0;34m\u001b[0m\u001b[0;34m\u001b[0m\u001b[0m\n\u001b[0m\u001b[1;32m      2\u001b[0m \u001b[0;31m# evaluate the keras model\u001b[0m\u001b[0;34m\u001b[0m\u001b[0;34m\u001b[0m\u001b[0;34m\u001b[0m\u001b[0m\n\u001b[1;32m      3\u001b[0m \u001b[0m_\u001b[0m\u001b[0;34m,\u001b[0m \u001b[0maccuracy\u001b[0m \u001b[0;34m=\u001b[0m \u001b[0mfnn_model\u001b[0m\u001b[0;34m.\u001b[0m\u001b[0mevaluate\u001b[0m\u001b[0;34m(\u001b[0m\u001b[0mX\u001b[0m\u001b[0;34m,\u001b[0m \u001b[0mY\u001b[0m\u001b[0;34m)\u001b[0m\u001b[0;34m\u001b[0m\u001b[0;34m\u001b[0m\u001b[0m\n\u001b[1;32m      4\u001b[0m \u001b[0mprint\u001b[0m\u001b[0;34m(\u001b[0m\u001b[0;34m'Accuracy: %.2f'\u001b[0m \u001b[0;34m%\u001b[0m \u001b[0;34m(\u001b[0m\u001b[0maccuracy\u001b[0m\u001b[0;34m*\u001b[0m\u001b[0;36m100\u001b[0m\u001b[0;34m)\u001b[0m\u001b[0;34m)\u001b[0m\u001b[0;34m\u001b[0m\u001b[0;34m\u001b[0m\u001b[0m\n",
            "\u001b[0;31mNameError\u001b[0m: name 'fnn_model' is not defined"
          ]
        }
      ]
    },
    {
      "cell_type": "code",
      "source": [
        "X.shape"
      ],
      "metadata": {
        "id": "l52x8NoRcUtV"
      },
      "execution_count": null,
      "outputs": []
    },
    {
      "cell_type": "code",
      "source": [
        "X = X.reshape(-1, 23, 1)"
      ],
      "metadata": {
        "id": "zyhQ28sI9R-l"
      },
      "execution_count": null,
      "outputs": []
    },
    {
      "cell_type": "code",
      "source": [
        "X.shape"
      ],
      "metadata": {
        "colab": {
          "base_uri": "https://localhost:8080/"
        },
        "id": "g8Yxexbe9WPK",
        "outputId": "50045258-63ae-49e2-ac04-bd97982757c3"
      },
      "execution_count": null,
      "outputs": [
        {
          "output_type": "execute_result",
          "data": {
            "text/plain": [
              "(236179, 23, 1)"
            ]
          },
          "metadata": {},
          "execution_count": 47
        }
      ]
    },
    {
      "cell_type": "code",
      "source": [
        "model = Sequential()\n",
        "model.add(LSTM(50, activation='relu', return_sequences=True, input_shape=(24, 1)))\n",
        "model.add(LSTM(50, activation='relu'))\n",
        "model.add(Dense(2))\n",
        "model.summary()"
      ],
      "metadata": {
        "id": "5bBQBTq9bHbR"
      },
      "execution_count": null,
      "outputs": []
    },
    {
      "cell_type": "code",
      "source": [
        "model.compile(\n",
        "  optimizer='adam',\n",
        "  loss='binary_crossentropy',\n",
        "  metrics=['accuracy'] ,\n",
        ")"
      ],
      "metadata": {
        "id": "sxDKq_SRbsxC"
      },
      "execution_count": null,
      "outputs": []
    },
    {
      "cell_type": "code",
      "source": [
        "history = model.fit(X, Y, epochs=4, verbose=1, batch_size=100)"
      ],
      "metadata": {
        "id": "OHIKfrlTcZtG"
      },
      "execution_count": null,
      "outputs": []
    },
    {
      "cell_type": "code",
      "source": [
        "sns.lineplot(history)"
      ],
      "metadata": {
        "id": "9igdFzV_E4HK",
        "outputId": "ac6fa6f3-ca52-44ab-bd31-9172580dc092",
        "colab": {
          "base_uri": "https://localhost:8080/",
          "height": 165
        }
      },
      "execution_count": null,
      "outputs": [
        {
          "output_type": "error",
          "ename": "NameError",
          "evalue": "ignored",
          "traceback": [
            "\u001b[0;31m---------------------------------------------------------------------------\u001b[0m",
            "\u001b[0;31mNameError\u001b[0m                                 Traceback (most recent call last)",
            "\u001b[0;32m<ipython-input-1-f2f9bf1b3c01>\u001b[0m in \u001b[0;36m<module>\u001b[0;34m()\u001b[0m\n\u001b[0;32m----> 1\u001b[0;31m \u001b[0msns\u001b[0m\u001b[0;34m.\u001b[0m\u001b[0mlineplot\u001b[0m\u001b[0;34m(\u001b[0m\u001b[0mhistory\u001b[0m\u001b[0;34m)\u001b[0m\u001b[0;34m\u001b[0m\u001b[0;34m\u001b[0m\u001b[0m\n\u001b[0m",
            "\u001b[0;31mNameError\u001b[0m: name 'sns' is not defined"
          ]
        }
      ]
    },
    {
      "cell_type": "code",
      "source": [
        "import random\n",
        "predict_X = X[:100]\n",
        "test_Y = model.predict(predict_X)\n",
        "[not np.argmax(i) for i in test_Y]"
      ],
      "metadata": {
        "id": "5fWTkDQfcdB1"
      },
      "execution_count": null,
      "outputs": []
    },
    {
      "cell_type": "code",
      "source": [
        "from tensorflow import keras\n",
        "\n",
        "inputs = keras.Input(shape=(23, 1))\n",
        "print(inputs.shape)\n",
        "lstm_1 = LSTM(50, activation='relu', return_sequences=True)(inputs)\n",
        "lstm_2 = LSTM(50, activation='relu')(lstm_1)\n",
        "lstm_output = Dense(8)(lstm_2)\n",
        "print(lstm_output.shape)\n",
        "\n",
        "lstm_model = keras.Model(inputs=inputs, outputs=lstm_output, name=\"LSTM-model\")"
      ],
      "metadata": {
        "colab": {
          "base_uri": "https://localhost:8080/"
        },
        "id": "ZPt_zAXpg3Vj",
        "outputId": "ebf59492-e0f7-4b14-eed9-6aeb1bce54be"
      },
      "execution_count": null,
      "outputs": [
        {
          "output_type": "stream",
          "name": "stdout",
          "text": [
            "(None, 23, 1)\n",
            "(None, 8)\n"
          ]
        }
      ]
    },
    {
      "cell_type": "code",
      "source": [
        "\n",
        "fnn_dense_1 = Dense(12, activation='relu')(inputs)\n",
        "fnn_flatten = keras.layers.Flatten()(fnn_dense_1)\n",
        "fnn_dense_2 = Dense(8, activation='relu')(fnn_flatten)\n",
        "fnn_output = Dense(8, activation='sigmoid')(fnn_dense_2)\n",
        "print(fnn_output.shape)\n",
        "\n",
        "fnn_model = keras.Model(inputs=inputs, outputs=fnn_output, name=\"FNN-model\")"
      ],
      "metadata": {
        "colab": {
          "base_uri": "https://localhost:8080/"
        },
        "id": "FseQDWvrh-8z",
        "outputId": "422f3e7a-ad5c-43ad-e940-e9faf36db6d4"
      },
      "execution_count": null,
      "outputs": [
        {
          "output_type": "stream",
          "name": "stdout",
          "text": [
            "(None, 8)\n"
          ]
        }
      ]
    },
    {
      "cell_type": "code",
      "source": [
        "model_outputs = [lstm_model(inputs), fnn_model(inputs)]\n",
        "\n",
        "concat_inputs = keras.layers.Concatenate(axis=1)(model_outputs)\n",
        "\n",
        "\n",
        "fnn_dense_1 = Dense(12, input_shape=(-1, 4), activation='relu')(concat_inputs)\n",
        "fnn_dense_2 = Dense(8, activation='relu', use_bias=True)(fnn_dense_1)\n",
        "fnn_output = Dense(8, activation='sigmoid', use_bias=True)(fnn_dense_2)"
      ],
      "metadata": {
        "id": "5t9Klafxicg_",
        "colab": {
          "base_uri": "https://localhost:8080/",
          "height": 235
        },
        "outputId": "49a885e1-32c6-42a2-f2ff-cf742b6c9abf"
      },
      "execution_count": null,
      "outputs": [
        {
          "output_type": "error",
          "ename": "NameError",
          "evalue": "ignored",
          "traceback": [
            "\u001b[0;31m---------------------------------------------------------------------------\u001b[0m",
            "\u001b[0;31mNameError\u001b[0m                                 Traceback (most recent call last)",
            "\u001b[0;32m<ipython-input-8-2d9bb9cabfe8>\u001b[0m in \u001b[0;36m<module>\u001b[0;34m()\u001b[0m\n\u001b[0;32m----> 1\u001b[0;31m \u001b[0mmodel_outputs\u001b[0m \u001b[0;34m=\u001b[0m \u001b[0;34m[\u001b[0m\u001b[0mlstm_model\u001b[0m\u001b[0;34m(\u001b[0m\u001b[0minputs\u001b[0m\u001b[0;34m)\u001b[0m\u001b[0;34m,\u001b[0m \u001b[0mfnn_model\u001b[0m\u001b[0;34m(\u001b[0m\u001b[0minputs\u001b[0m\u001b[0;34m)\u001b[0m\u001b[0;34m]\u001b[0m\u001b[0;34m\u001b[0m\u001b[0;34m\u001b[0m\u001b[0m\n\u001b[0m\u001b[1;32m      2\u001b[0m \u001b[0;34m\u001b[0m\u001b[0m\n\u001b[1;32m      3\u001b[0m \u001b[0mconcat_inputs\u001b[0m \u001b[0;34m=\u001b[0m \u001b[0mkeras\u001b[0m\u001b[0;34m.\u001b[0m\u001b[0mlayers\u001b[0m\u001b[0;34m.\u001b[0m\u001b[0mConcatenate\u001b[0m\u001b[0;34m(\u001b[0m\u001b[0maxis\u001b[0m\u001b[0;34m=\u001b[0m\u001b[0;36m1\u001b[0m\u001b[0;34m)\u001b[0m\u001b[0;34m(\u001b[0m\u001b[0mmodel_outputs\u001b[0m\u001b[0;34m)\u001b[0m\u001b[0;34m\u001b[0m\u001b[0;34m\u001b[0m\u001b[0m\n\u001b[1;32m      4\u001b[0m \u001b[0;34m\u001b[0m\u001b[0m\n\u001b[1;32m      5\u001b[0m \u001b[0;34m\u001b[0m\u001b[0m\n",
            "\u001b[0;31mNameError\u001b[0m: name 'lstm_model' is not defined"
          ]
        }
      ]
    },
    {
      "cell_type": "code",
      "source": [
        "model = keras.Model(inputs=inputs, outputs=fnn_output, name=\"FNN-model\")"
      ],
      "metadata": {
        "id": "uW33J9F3lTcH"
      },
      "execution_count": null,
      "outputs": []
    },
    {
      "cell_type": "code",
      "source": [
        "lstm_model.summary()\n",
        "model.summary()"
      ],
      "metadata": {
        "colab": {
          "base_uri": "https://localhost:8080/",
          "height": 182
        },
        "id": "h59ScGeAkuwK",
        "outputId": "90679f9e-8273-42d5-b752-a5adc2338f8a"
      },
      "execution_count": null,
      "outputs": [
        {
          "output_type": "error",
          "ename": "NameError",
          "evalue": "ignored",
          "traceback": [
            "\u001b[0;31m---------------------------------------------------------------------------\u001b[0m",
            "\u001b[0;31mNameError\u001b[0m                                 Traceback (most recent call last)",
            "\u001b[0;32m<ipython-input-7-b81fa146cbcd>\u001b[0m in \u001b[0;36m<module>\u001b[0;34m()\u001b[0m\n\u001b[0;32m----> 1\u001b[0;31m \u001b[0mlstm_model\u001b[0m\u001b[0;34m.\u001b[0m\u001b[0msummary\u001b[0m\u001b[0;34m(\u001b[0m\u001b[0;34m)\u001b[0m\u001b[0;34m\u001b[0m\u001b[0;34m\u001b[0m\u001b[0m\n\u001b[0m\u001b[1;32m      2\u001b[0m \u001b[0mmodel\u001b[0m\u001b[0;34m.\u001b[0m\u001b[0msummary\u001b[0m\u001b[0;34m(\u001b[0m\u001b[0;34m)\u001b[0m\u001b[0;34m\u001b[0m\u001b[0;34m\u001b[0m\u001b[0m\n",
            "\u001b[0;31mNameError\u001b[0m: name 'lstm_model' is not defined"
          ]
        }
      ]
    },
    {
      "cell_type": "code",
      "source": [
        "model.compile(\n",
        "  optimizer='adam',\n",
        "  loss='categorical_crossentropy',\n",
        "  metrics=['accuracy'] ,\n",
        ")"
      ],
      "metadata": {
        "id": "tE_2HjDpoaRi",
        "colab": {
          "base_uri": "https://localhost:8080/",
          "height": 235
        },
        "outputId": "af0ae514-10c1-4dab-cec0-5c450bb6b973"
      },
      "execution_count": null,
      "outputs": [
        {
          "output_type": "error",
          "ename": "NameError",
          "evalue": "ignored",
          "traceback": [
            "\u001b[0;31m---------------------------------------------------------------------------\u001b[0m",
            "\u001b[0;31mNameError\u001b[0m                                 Traceback (most recent call last)",
            "\u001b[0;32m<ipython-input-6-c6230440a3ba>\u001b[0m in \u001b[0;36m<module>\u001b[0;34m()\u001b[0m\n\u001b[0;32m----> 1\u001b[0;31m model.compile(\n\u001b[0m\u001b[1;32m      2\u001b[0m   \u001b[0moptimizer\u001b[0m\u001b[0;34m=\u001b[0m\u001b[0;34m'adam'\u001b[0m\u001b[0;34m,\u001b[0m\u001b[0;34m\u001b[0m\u001b[0;34m\u001b[0m\u001b[0m\n\u001b[1;32m      3\u001b[0m   \u001b[0mloss\u001b[0m\u001b[0;34m=\u001b[0m\u001b[0;34m'categorical_crossentropy'\u001b[0m\u001b[0;34m,\u001b[0m\u001b[0;34m\u001b[0m\u001b[0;34m\u001b[0m\u001b[0m\n\u001b[1;32m      4\u001b[0m   \u001b[0mmetrics\u001b[0m\u001b[0;34m=\u001b[0m\u001b[0;34m[\u001b[0m\u001b[0;34m'accuracy'\u001b[0m\u001b[0;34m]\u001b[0m \u001b[0;34m,\u001b[0m\u001b[0;34m\u001b[0m\u001b[0;34m\u001b[0m\u001b[0m\n\u001b[1;32m      5\u001b[0m )\n",
            "\u001b[0;31mNameError\u001b[0m: name 'model' is not defined"
          ]
        }
      ]
    },
    {
      "cell_type": "code",
      "source": [
        "x = X.reshape(-1, 23, 1)"
      ],
      "metadata": {
        "id": "XzWLrHuIrObf",
        "colab": {
          "base_uri": "https://localhost:8080/",
          "height": 165
        },
        "outputId": "723a94d9-35ef-4a60-c4fd-f3c747dd37a1"
      },
      "execution_count": null,
      "outputs": [
        {
          "output_type": "error",
          "ename": "NameError",
          "evalue": "ignored",
          "traceback": [
            "\u001b[0;31m---------------------------------------------------------------------------\u001b[0m",
            "\u001b[0;31mNameError\u001b[0m                                 Traceback (most recent call last)",
            "\u001b[0;32m<ipython-input-5-1f0d7945ee6a>\u001b[0m in \u001b[0;36m<module>\u001b[0;34m()\u001b[0m\n\u001b[0;32m----> 1\u001b[0;31m \u001b[0mx\u001b[0m \u001b[0;34m=\u001b[0m \u001b[0mX\u001b[0m\u001b[0;34m.\u001b[0m\u001b[0mreshape\u001b[0m\u001b[0;34m(\u001b[0m\u001b[0;34m-\u001b[0m\u001b[0;36m1\u001b[0m\u001b[0;34m,\u001b[0m \u001b[0;36m23\u001b[0m\u001b[0;34m,\u001b[0m \u001b[0;36m1\u001b[0m\u001b[0;34m)\u001b[0m\u001b[0;34m\u001b[0m\u001b[0;34m\u001b[0m\u001b[0m\n\u001b[0m",
            "\u001b[0;31mNameError\u001b[0m: name 'X' is not defined"
          ]
        }
      ]
    },
    {
      "cell_type": "code",
      "source": [
        "history = model.fit(np.asarray(x), np.asarray(Y), epochs=4, verbose=1, batch_size=100)"
      ],
      "metadata": {
        "colab": {
          "base_uri": "https://localhost:8080/"
        },
        "id": "86tPje_4oa06",
        "outputId": "e09393d3-b8e2-4978-fd7a-057bd638eb5a"
      },
      "execution_count": null,
      "outputs": [
        {
          "output_type": "stream",
          "name": "stdout",
          "text": [
            "Epoch 1/4\n",
            "2362/2362 [==============================] - 88s 36ms/step - loss: 0.4806 - accuracy: 0.8660\n",
            "Epoch 2/4\n",
            "2362/2362 [==============================] - 86s 36ms/step - loss: 0.3477 - accuracy: 0.8995\n",
            "Epoch 3/4\n",
            "2362/2362 [==============================] - 83s 35ms/step - loss: 0.3314 - accuracy: 0.9038\n",
            "Epoch 4/4\n",
            "2362/2362 [==============================] - 82s 35ms/step - loss: 0.3280 - accuracy: 0.9041\n"
          ]
        }
      ]
    },
    {
      "cell_type": "code",
      "source": [
        "pd.DataFrame(history.history).plot(figsize=(8,5))\n",
        "plt.show()"
      ],
      "metadata": {
        "colab": {
          "base_uri": "https://localhost:8080/",
          "height": 320
        },
        "id": "sI0HQ8vPoeCJ",
        "outputId": "05301fdf-2e11-4390-c095-bfc0db90a78d"
      },
      "execution_count": null,
      "outputs": [
        {
          "output_type": "display_data",
          "data": {
            "text/plain": [
              "<Figure size 576x360 with 1 Axes>"
            ],
            "image/png": "[encoded data removed]"
          },
          "metadata": {
            "needs_background": "light"
          }
        }
      ]
    },
    {
      "cell_type": "code",
      "source": [
        "tdf = pd.read_csv(\"10_water_final.csv\")\n",
        "tdf.drop(['id'], axis=1, inplace=True)\n",
        "\n",
        "tdf = (tdf-tdf.mean())/tdf.std()\n",
        "tdf['result'] = (tdf['result']-tdf['result'].min())/(tdf['result'].max()-tdf['result'].min())\n",
        "tdf['command_memory'] = 0\n",
        "tdf['comm_read_function'] = 0\n",
        "tdf['resp_read_fun'] = 0\n",
        "tdf['control_scheme'] = 0\n",
        "tdf['command_length'] = 0\n",
        "tdf = tdf.iloc[: , 1:]\n",
        "\n",
        "Tresult = tfo['result']\n",
        "X_test = tdf.drop(['result'],axis=1)\n",
        "Tresult = Tresult.to_numpy()\n",
        "\n",
        "Y_test = []\n",
        "for i in Tresult:\n",
        "  classes = [0] * 8\n",
        "  classes[i] = 1\n",
        "  Y_test.append(classes)"
      ],
      "metadata": {
        "colab": {
          "base_uri": "https://localhost:8080/",
          "height": 235
        },
        "id": "p7gftN6Uqe29",
        "outputId": "86aeee3a-c876-48d7-ac13-53b08ed4c72a"
      },
      "execution_count": null,
      "outputs": [
        {
          "output_type": "error",
          "ename": "NameError",
          "evalue": "ignored",
          "traceback": [
            "\u001b[0;31m---------------------------------------------------------------------------\u001b[0m",
            "\u001b[0;31mNameError\u001b[0m                                 Traceback (most recent call last)",
            "\u001b[0;32m<ipython-input-5-6b93339665f7>\u001b[0m in \u001b[0;36m<module>\u001b[0;34m()\u001b[0m\n\u001b[0;32m----> 1\u001b[0;31m \u001b[0mtdf\u001b[0m \u001b[0;34m=\u001b[0m \u001b[0mpd\u001b[0m\u001b[0;34m.\u001b[0m\u001b[0mread_csv\u001b[0m\u001b[0;34m(\u001b[0m\u001b[0;34m\"10_water_final.csv\"\u001b[0m\u001b[0;34m)\u001b[0m\u001b[0;34m\u001b[0m\u001b[0;34m\u001b[0m\u001b[0m\n\u001b[0m\u001b[1;32m      2\u001b[0m \u001b[0mtdf\u001b[0m\u001b[0;34m.\u001b[0m\u001b[0mdrop\u001b[0m\u001b[0;34m(\u001b[0m\u001b[0;34m[\u001b[0m\u001b[0;34m'id'\u001b[0m\u001b[0;34m]\u001b[0m\u001b[0;34m,\u001b[0m \u001b[0maxis\u001b[0m\u001b[0;34m=\u001b[0m\u001b[0;36m1\u001b[0m\u001b[0;34m,\u001b[0m \u001b[0minplace\u001b[0m\u001b[0;34m=\u001b[0m\u001b[0;32mTrue\u001b[0m\u001b[0;34m)\u001b[0m\u001b[0;34m\u001b[0m\u001b[0;34m\u001b[0m\u001b[0m\n\u001b[1;32m      3\u001b[0m \u001b[0;34m\u001b[0m\u001b[0m\n\u001b[1;32m      4\u001b[0m \u001b[0mtdf\u001b[0m \u001b[0;34m=\u001b[0m \u001b[0;34m(\u001b[0m\u001b[0mtdf\u001b[0m\u001b[0;34m-\u001b[0m\u001b[0mtdf\u001b[0m\u001b[0;34m.\u001b[0m\u001b[0mmean\u001b[0m\u001b[0;34m(\u001b[0m\u001b[0;34m)\u001b[0m\u001b[0;34m)\u001b[0m\u001b[0;34m/\u001b[0m\u001b[0mtdf\u001b[0m\u001b[0;34m.\u001b[0m\u001b[0mstd\u001b[0m\u001b[0;34m(\u001b[0m\u001b[0;34m)\u001b[0m\u001b[0;34m\u001b[0m\u001b[0;34m\u001b[0m\u001b[0m\n\u001b[1;32m      5\u001b[0m \u001b[0mtdf\u001b[0m\u001b[0;34m[\u001b[0m\u001b[0;34m'result'\u001b[0m\u001b[0;34m]\u001b[0m \u001b[0;34m=\u001b[0m \u001b[0;34m(\u001b[0m\u001b[0mtdf\u001b[0m\u001b[0;34m[\u001b[0m\u001b[0;34m'result'\u001b[0m\u001b[0;34m]\u001b[0m\u001b[0;34m-\u001b[0m\u001b[0mtdf\u001b[0m\u001b[0;34m[\u001b[0m\u001b[0;34m'result'\u001b[0m\u001b[0;34m]\u001b[0m\u001b[0;34m.\u001b[0m\u001b[0mmin\u001b[0m\u001b[0;34m(\u001b[0m\u001b[0;34m)\u001b[0m\u001b[0;34m)\u001b[0m\u001b[0;34m/\u001b[0m\u001b[0;34m(\u001b[0m\u001b[0mtdf\u001b[0m\u001b[0;34m[\u001b[0m\u001b[0;34m'result'\u001b[0m\u001b[0;34m]\u001b[0m\u001b[0;34m.\u001b[0m\u001b[0mmax\u001b[0m\u001b[0;34m(\u001b[0m\u001b[0;34m)\u001b[0m\u001b[0;34m-\u001b[0m\u001b[0mtdf\u001b[0m\u001b[0;34m[\u001b[0m\u001b[0;34m'result'\u001b[0m\u001b[0;34m]\u001b[0m\u001b[0;34m.\u001b[0m\u001b[0mmin\u001b[0m\u001b[0;34m(\u001b[0m\u001b[0;34m)\u001b[0m\u001b[0;34m)\u001b[0m\u001b[0;34m\u001b[0m\u001b[0;34m\u001b[0m\u001b[0m\n",
            "\u001b[0;31mNameError\u001b[0m: name 'pd' is not defined"
          ]
        }
      ]
    },
    {
      "cell_type": "code",
      "source": [
        "score = model.evaluate(X_test, Y_test, verbose=0)\n",
        "print('Test loss:', score[0])\n",
        "print('Test accuracy:', score[1])"
      ],
      "metadata": {
        "id": "jR0FumC7sAMz"
      },
      "execution_count": null,
      "outputs": []
    },
    {
      "cell_type": "code",
      "source": [
        "confusion_matrix(y_test.values.argmax(axis=1), predictions.argmax(axis=1))"
      ],
      "metadata": {
        "colab": {
          "base_uri": "https://localhost:8080/",
          "height": 165
        },
        "id": "7mFxstIToYYO",
        "outputId": "1d05203f-98f0-4fff-c32c-231d92d3c3a7"
      },
      "execution_count": null,
      "outputs": [
        {
          "output_type": "error",
          "ename": "NameError",
          "evalue": "ignored",
          "traceback": [
            "\u001b[0;31m---------------------------------------------------------------------------\u001b[0m",
            "\u001b[0;31mNameError\u001b[0m                                 Traceback (most recent call last)",
            "\u001b[0;32m<ipython-input-1-c92da3d4948b>\u001b[0m in \u001b[0;36m<module>\u001b[0;34m()\u001b[0m\n\u001b[0;32m----> 1\u001b[0;31m \u001b[0mmatrix\u001b[0m \u001b[0;34m=\u001b[0m \u001b[0mmetrics\u001b[0m\u001b[0;34m.\u001b[0m\u001b[0mconfusion_matrix\u001b[0m\u001b[0;34m(\u001b[0m\u001b[0my_test\u001b[0m\u001b[0;34m.\u001b[0m\u001b[0margmax\u001b[0m\u001b[0;34m(\u001b[0m\u001b[0maxis\u001b[0m\u001b[0;34m=\u001b[0m\u001b[0;36m1\u001b[0m\u001b[0;34m)\u001b[0m\u001b[0;34m,\u001b[0m \u001b[0my_pred\u001b[0m\u001b[0;34m.\u001b[0m\u001b[0margmax\u001b[0m\u001b[0;34m(\u001b[0m\u001b[0maxis\u001b[0m\u001b[0;34m=\u001b[0m\u001b[0;36m1\u001b[0m\u001b[0;34m)\u001b[0m\u001b[0;34m)\u001b[0m\u001b[0;34m\u001b[0m\u001b[0;34m\u001b[0m\u001b[0m\n\u001b[0m",
            "\u001b[0;31mNameError\u001b[0m: name 'metrics' is not defined"
          ]
        }
      ]
    }
  ],
  "metadata": {
    "colab": {
      "collapsed_sections": [],
      "name": "mini project LSTM",
      "provenance": []
    },
    "kernelspec": {
      "display_name": "Python 3",
      "name": "python3"
    },
    "accelerator": "GPU",
    "gpuClass": "standard"
  },
  "nbformat": 4,
  "nbformat_minor": 0
}